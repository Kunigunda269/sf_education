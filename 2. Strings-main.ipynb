{
 "cells": [
  {
   "cell_type": "markdown",
   "metadata": {},
   "source": [
    "# Строки "
   ]
  },
  {
   "cell_type": "markdown",
   "metadata": {},
   "source": [
    "## Основные моменты"
   ]
  },
  {
   "cell_type": "markdown",
   "metadata": {},
   "source": [
    "Строка является типом переменной в python, как вы видели в прошлом занятии."
   ]
  },
  {
   "cell_type": "code",
   "execution_count": 1,
   "metadata": {
    "ExecuteTime": {
     "end_time": "2021-01-23T11:17:30.716728Z",
     "start_time": "2021-01-23T11:17:30.714706Z"
    }
   },
   "outputs": [],
   "source": [
    "our_string = 'this is the string'"
   ]
  },
  {
   "cell_type": "code",
   "execution_count": 2,
   "metadata": {
    "ExecuteTime": {
     "end_time": "2021-01-23T11:17:43.570389Z",
     "start_time": "2021-01-23T11:17:43.567532Z"
    }
   },
   "outputs": [
    {
     "name": "stdout",
     "output_type": "stream",
     "text": [
      "this is the string\n"
     ]
    }
   ],
   "source": [
    "print(our_string)"
   ]
  },
  {
   "cell_type": "code",
   "execution_count": 3,
   "metadata": {
    "ExecuteTime": {
     "end_time": "2021-01-23T11:18:12.618077Z",
     "start_time": "2021-01-23T11:18:12.615175Z"
    }
   },
   "outputs": [
    {
     "name": "stdout",
     "output_type": "stream",
     "text": [
      "this is the string!\n"
     ]
    }
   ],
   "source": [
    "print(our_string + '!')"
   ]
  },
  {
   "cell_type": "code",
   "execution_count": 4,
   "metadata": {
    "ExecuteTime": {
     "end_time": "2021-01-23T11:18:24.805067Z",
     "start_time": "2021-01-23T11:18:24.801956Z"
    }
   },
   "outputs": [
    {
     "name": "stdout",
     "output_type": "stream",
     "text": [
      "this is the stringthis is the stringthis is the string\n"
     ]
    }
   ],
   "source": [
    "print(3 * our_string)"
   ]
  },
  {
   "cell_type": "code",
   "execution_count": 5,
   "metadata": {
    "ExecuteTime": {
     "end_time": "2021-01-23T11:18:51.564458Z",
     "start_time": "2021-01-23T11:18:51.560333Z"
    }
   },
   "outputs": [
    {
     "name": "stdout",
     "output_type": "stream",
     "text": [
      "this is the string this is the string this is the string \n"
     ]
    }
   ],
   "source": [
    "print(3 * (our_string + ' '))"
   ]
  },
  {
   "cell_type": "markdown",
   "metadata": {},
   "source": [
    "Как мы видели ранее, мы можем проводить операцию сложения и умножения на целое число для строк:"
   ]
  },
  {
   "cell_type": "markdown",
   "metadata": {},
   "source": [
    "Как и в примере с числовыми переменными, мы можем выполнять преобрезование типа для строковой переменной:"
   ]
  },
  {
   "cell_type": "code",
   "execution_count": 6,
   "metadata": {
    "ExecuteTime": {
     "end_time": "2021-01-23T11:19:38.863306Z",
     "start_time": "2021-01-23T11:19:38.855419Z"
    }
   },
   "outputs": [
    {
     "data": {
      "text/plain": [
       "3"
      ]
     },
     "execution_count": 6,
     "metadata": {},
     "output_type": "execute_result"
    }
   ],
   "source": [
    "int('3')"
   ]
  },
  {
   "cell_type": "code",
   "execution_count": 7,
   "metadata": {
    "ExecuteTime": {
     "end_time": "2021-01-23T11:19:49.129858Z",
     "start_time": "2021-01-23T11:19:49.126336Z"
    }
   },
   "outputs": [
    {
     "data": {
      "text/plain": [
       "3.12"
      ]
     },
     "execution_count": 7,
     "metadata": {},
     "output_type": "execute_result"
    }
   ],
   "source": [
    "float('3.12')"
   ]
  },
  {
   "cell_type": "code",
   "execution_count": 8,
   "metadata": {
    "ExecuteTime": {
     "end_time": "2021-01-23T11:19:56.644872Z",
     "start_time": "2021-01-23T11:19:56.244760Z"
    }
   },
   "outputs": [
    {
     "ename": "ValueError",
     "evalue": "invalid literal for int() with base 10: 'gaa'",
     "output_type": "error",
     "traceback": [
      "\u001b[0;31m---------------------------------------------------------------------------\u001b[0m",
      "\u001b[0;31mValueError\u001b[0m                                Traceback (most recent call last)",
      "\u001b[0;32m<ipython-input-8-2f41476bdf16>\u001b[0m in \u001b[0;36m<module>\u001b[0;34m\u001b[0m\n\u001b[0;32m----> 1\u001b[0;31m \u001b[0mint\u001b[0m\u001b[0;34m(\u001b[0m\u001b[0;34m'gaa'\u001b[0m\u001b[0;34m)\u001b[0m\u001b[0;34m\u001b[0m\u001b[0;34m\u001b[0m\u001b[0m\n\u001b[0m",
      "\u001b[0;31mValueError\u001b[0m: invalid literal for int() with base 10: 'gaa'"
     ]
    }
   ],
   "source": [
    "int('gaa')"
   ]
  },
  {
   "cell_type": "markdown",
   "metadata": {},
   "source": [
    "Для строк существуют специфические функции, позволяющие узнать их длину:"
   ]
  },
  {
   "cell_type": "code",
   "execution_count": 9,
   "metadata": {
    "ExecuteTime": {
     "end_time": "2021-01-23T11:20:16.254022Z",
     "start_time": "2021-01-23T11:20:16.250692Z"
    }
   },
   "outputs": [
    {
     "data": {
      "text/plain": [
       "'this is the string'"
      ]
     },
     "execution_count": 9,
     "metadata": {},
     "output_type": "execute_result"
    }
   ],
   "source": [
    "our_string"
   ]
  },
  {
   "cell_type": "code",
   "execution_count": 10,
   "metadata": {
    "ExecuteTime": {
     "end_time": "2021-01-23T11:20:26.643861Z",
     "start_time": "2021-01-23T11:20:26.641150Z"
    }
   },
   "outputs": [
    {
     "data": {
      "text/plain": [
       "18"
      ]
     },
     "execution_count": 10,
     "metadata": {},
     "output_type": "execute_result"
    }
   ],
   "source": [
    "len(our_string)"
   ]
  },
  {
   "cell_type": "markdown",
   "metadata": {},
   "source": [
    "Иногда вам необходимо записать строку, содержащую выражение в кавычках. Однако, строка объявляется символами в кавычках, как же быть? "
   ]
  },
  {
   "cell_type": "code",
   "execution_count": 11,
   "metadata": {
    "ExecuteTime": {
     "end_time": "2021-01-23T11:21:34.289451Z",
     "start_time": "2021-01-23T11:21:34.287003Z"
    }
   },
   "outputs": [],
   "source": [
    "quoted_string = 'this is my \"string\"'"
   ]
  },
  {
   "cell_type": "code",
   "execution_count": 12,
   "metadata": {
    "ExecuteTime": {
     "end_time": "2021-01-23T11:21:38.887935Z",
     "start_time": "2021-01-23T11:21:38.885088Z"
    }
   },
   "outputs": [
    {
     "data": {
      "text/plain": [
       "'this is my \"string\"'"
      ]
     },
     "execution_count": 12,
     "metadata": {},
     "output_type": "execute_result"
    }
   ],
   "source": [
    "quoted_string"
   ]
  },
  {
   "cell_type": "code",
   "execution_count": 13,
   "metadata": {
    "ExecuteTime": {
     "end_time": "2021-01-23T11:21:49.883489Z",
     "start_time": "2021-01-23T11:21:49.880518Z"
    }
   },
   "outputs": [
    {
     "name": "stdout",
     "output_type": "stream",
     "text": [
      "this is my \"string\"\n"
     ]
    }
   ],
   "source": [
    "print(quoted_string)"
   ]
  },
  {
   "cell_type": "markdown",
   "metadata": {},
   "source": [
    "Помимо экранирования существуют иные спецсимволы, которые используются в строковых переменных:\n",
    "* Табуляция (\\t)\n",
    "* Перевод строки (\\n)\n",
    "* Возврат каретки в начало (\\r)"
   ]
  },
  {
   "cell_type": "code",
   "execution_count": 14,
   "metadata": {
    "ExecuteTime": {
     "end_time": "2021-01-23T11:22:28.325082Z",
     "start_time": "2021-01-23T11:22:28.322519Z"
    }
   },
   "outputs": [
    {
     "name": "stdout",
     "output_type": "stream",
     "text": [
      "this is \t my string\n"
     ]
    }
   ],
   "source": [
    "print('this is \\t my string')"
   ]
  },
  {
   "cell_type": "code",
   "execution_count": 15,
   "metadata": {
    "ExecuteTime": {
     "end_time": "2021-01-23T11:22:48.183891Z",
     "start_time": "2021-01-23T11:22:48.181103Z"
    }
   },
   "outputs": [
    {
     "name": "stdout",
     "output_type": "stream",
     "text": [
      "this is \n",
      " my string\n"
     ]
    }
   ],
   "source": [
    "print('this is \\n my string')"
   ]
  },
  {
   "cell_type": "code",
   "execution_count": 16,
   "metadata": {
    "ExecuteTime": {
     "end_time": "2021-01-23T11:23:12.584275Z",
     "start_time": "2021-01-23T11:23:12.581497Z"
    }
   },
   "outputs": [
    {
     "name": "stdout",
     "output_type": "stream",
     "text": [
      "this is \r",
      " my string\n"
     ]
    }
   ],
   "source": [
    "print('this is \\r my string')"
   ]
  },
  {
   "cell_type": "markdown",
   "metadata": {},
   "source": [
    "Если вам необходимо записать многострочный текст в строку, то вы можете это сделать с помощью тройных кавычек:"
   ]
  },
  {
   "cell_type": "code",
   "execution_count": 20,
   "metadata": {
    "ExecuteTime": {
     "end_time": "2021-01-23T11:24:44.857841Z",
     "start_time": "2021-01-23T11:24:44.855274Z"
    }
   },
   "outputs": [
    {
     "name": "stdout",
     "output_type": "stream",
     "text": [
      "This is my big text\n"
     ]
    }
   ],
   "source": [
    "print('''This is \\\n",
    "my \\\n",
    "big text''')"
   ]
  },
  {
   "cell_type": "markdown",
   "metadata": {},
   "source": [
    "Функция print тоже имеет несколько полезных особенностей. Вы всегда можете посмотреть возможности функции, находясь внутри скобок комбинацию Shift+Tab:"
   ]
  },
  {
   "cell_type": "code",
   "execution_count": 21,
   "metadata": {
    "ExecuteTime": {
     "end_time": "2021-01-23T11:27:46.432364Z",
     "start_time": "2021-01-23T11:27:46.428624Z"
    }
   },
   "outputs": [
    {
     "name": "stdout",
     "output_type": "stream",
     "text": [
      "You can do like this\n"
     ]
    }
   ],
   "source": [
    "print('You', 'can', 'do', 'like', 'this')"
   ]
  },
  {
   "cell_type": "code",
   "execution_count": 23,
   "metadata": {
    "ExecuteTime": {
     "end_time": "2021-01-23T11:28:02.411999Z",
     "start_time": "2021-01-23T11:28:02.406655Z"
    }
   },
   "outputs": [
    {
     "name": "stdout",
     "output_type": "stream",
     "text": [
      "You\n",
      "can\n",
      "do\n",
      "like\n",
      "this\n"
     ]
    }
   ],
   "source": [
    "print('You', 'can', 'do', 'like', 'this', sep='\\n')"
   ]
  },
  {
   "cell_type": "code",
   "execution_count": 25,
   "metadata": {
    "ExecuteTime": {
     "end_time": "2021-01-23T11:29:01.046698Z",
     "start_time": "2021-01-23T11:29:01.044383Z"
    }
   },
   "outputs": [
    {
     "name": "stdout",
     "output_type": "stream",
     "text": [
      "First string\tSecond string\n"
     ]
    }
   ],
   "source": [
    "print('First string', end='\\t')\n",
    "print('Second string')"
   ]
  },
  {
   "cell_type": "markdown",
   "metadata": {},
   "source": [
    "Также, если вы хотите вывести значение переменных, снабдив его текстом, вы конечно можете сделать что-то вроде этого:"
   ]
  },
  {
   "cell_type": "code",
   "execution_count": 26,
   "metadata": {
    "ExecuteTime": {
     "end_time": "2021-01-23T11:29:56.851269Z",
     "start_time": "2021-01-23T11:29:56.848712Z"
    }
   },
   "outputs": [],
   "source": [
    "a = 2"
   ]
  },
  {
   "cell_type": "code",
   "execution_count": 27,
   "metadata": {
    "ExecuteTime": {
     "end_time": "2021-01-23T11:30:16.296281Z",
     "start_time": "2021-01-23T11:30:16.292377Z"
    }
   },
   "outputs": [
    {
     "name": "stdout",
     "output_type": "stream",
     "text": [
      "Value of \"a\" is 2\n"
     ]
    }
   ],
   "source": [
    "print('Value of \"a\" is',a)"
   ]
  },
  {
   "cell_type": "markdown",
   "metadata": {},
   "source": [
    "Однако верной записью будет:"
   ]
  },
  {
   "cell_type": "code",
   "execution_count": 28,
   "metadata": {
    "ExecuteTime": {
     "end_time": "2021-01-23T11:31:16.674665Z",
     "start_time": "2021-01-23T11:31:16.671196Z"
    }
   },
   "outputs": [
    {
     "name": "stdout",
     "output_type": "stream",
     "text": [
      "Value of \"a\" is 2\n"
     ]
    }
   ],
   "source": [
    "print('Value of \"a\" is {}'.format(a))"
   ]
  },
  {
   "cell_type": "code",
   "execution_count": 29,
   "metadata": {
    "ExecuteTime": {
     "end_time": "2021-01-23T11:31:34.673889Z",
     "start_time": "2021-01-23T11:31:34.670767Z"
    }
   },
   "outputs": [
    {
     "name": "stdout",
     "output_type": "stream",
     "text": [
      "Value of \"a\" is 2\n"
     ]
    }
   ],
   "source": [
    "print(f'Value of \"a\" is {a}')"
   ]
  },
  {
   "cell_type": "code",
   "execution_count": 30,
   "metadata": {
    "ExecuteTime": {
     "end_time": "2021-01-23T11:33:14.235032Z",
     "start_time": "2021-01-23T11:33:14.231957Z"
    }
   },
   "outputs": [
    {
     "name": "stdout",
     "output_type": "stream",
     "text": [
      "This is 3.1415926543434 and this is one\n"
     ]
    }
   ],
   "source": [
    "print('This is {} and this is {}'.format(3.1415926543434, 'one'))"
   ]
  },
  {
   "cell_type": "code",
   "execution_count": 31,
   "metadata": {
    "ExecuteTime": {
     "end_time": "2021-01-23T11:33:37.025802Z",
     "start_time": "2021-01-23T11:33:37.023465Z"
    }
   },
   "outputs": [
    {
     "name": "stdout",
     "output_type": "stream",
     "text": [
      "This is one and this is 3.1415926543434\n"
     ]
    }
   ],
   "source": [
    "print('This is {1} and this is {0}'.format(3.1415926543434, 'one'))"
   ]
  },
  {
   "cell_type": "code",
   "execution_count": 32,
   "metadata": {
    "ExecuteTime": {
     "end_time": "2021-01-23T11:34:35.596287Z",
     "start_time": "2021-01-23T11:34:35.593978Z"
    }
   },
   "outputs": [
    {
     "name": "stdout",
     "output_type": "stream",
     "text": [
      "This is one and this is 3.14\n"
     ]
    }
   ],
   "source": [
    "print('This is {1} and this is {0:.2f}'.format(3.1415926543434, 'one'))"
   ]
  },
  {
   "cell_type": "markdown",
   "metadata": {},
   "source": [
    "Инструмент форматирования обладает большими возможностями. Он может задать требования к длине строки или формату вывода данных. \n",
    "\n",
    "Например:"
   ]
  },
  {
   "cell_type": "markdown",
   "metadata": {},
   "source": [
    "Также существует функция ввода, которая принимает строку из консоли. Это бывает полезно для программ, в которых вам нужно задать внешние аргументы."
   ]
  },
  {
   "cell_type": "code",
   "execution_count": 33,
   "metadata": {
    "ExecuteTime": {
     "end_time": "2021-01-23T11:35:34.429883Z",
     "start_time": "2021-01-23T11:35:23.919584Z"
    }
   },
   "outputs": [
    {
     "name": "stdout",
     "output_type": "stream",
     "text": [
      "This is my text\n"
     ]
    }
   ],
   "source": [
    "from_user = input()"
   ]
  },
  {
   "cell_type": "code",
   "execution_count": 34,
   "metadata": {
    "ExecuteTime": {
     "end_time": "2021-01-23T11:35:39.476443Z",
     "start_time": "2021-01-23T11:35:39.471933Z"
    }
   },
   "outputs": [
    {
     "name": "stdout",
     "output_type": "stream",
     "text": [
      "This is my text\n"
     ]
    }
   ],
   "source": [
    "print(from_user)"
   ]
  },
  {
   "cell_type": "markdown",
   "metadata": {},
   "source": [
    "## Встроенные методы обработки строк"
   ]
  },
  {
   "cell_type": "markdown",
   "metadata": {},
   "source": [
    "Существуют встроенные в Python методы обработки строк, полезные для выполнения простых операций над ними."
   ]
  },
  {
   "cell_type": "code",
   "execution_count": 35,
   "metadata": {
    "ExecuteTime": {
     "end_time": "2021-01-23T11:36:30.220354Z",
     "start_time": "2021-01-23T11:36:30.218323Z"
    }
   },
   "outputs": [],
   "source": [
    "one_sentence = '     This is my sentence.    '"
   ]
  },
  {
   "cell_type": "code",
   "execution_count": 36,
   "metadata": {
    "ExecuteTime": {
     "end_time": "2021-01-23T11:36:33.925254Z",
     "start_time": "2021-01-23T11:36:33.920804Z"
    }
   },
   "outputs": [
    {
     "data": {
      "text/plain": [
       "'     This is my sentence.    '"
      ]
     },
     "execution_count": 36,
     "metadata": {},
     "output_type": "execute_result"
    }
   ],
   "source": [
    "one_sentence"
   ]
  },
  {
   "cell_type": "code",
   "execution_count": 37,
   "metadata": {
    "ExecuteTime": {
     "end_time": "2021-01-23T11:36:41.686945Z",
     "start_time": "2021-01-23T11:36:41.684011Z"
    }
   },
   "outputs": [
    {
     "name": "stdout",
     "output_type": "stream",
     "text": [
      "     This is my sentence.    \n"
     ]
    }
   ],
   "source": [
    "print(one_sentence)"
   ]
  },
  {
   "cell_type": "markdown",
   "metadata": {},
   "source": [
    "Первое, что можно сделать - почистить текст от лишних пробелов в конце и начале строки."
   ]
  },
  {
   "cell_type": "code",
   "execution_count": 39,
   "metadata": {
    "ExecuteTime": {
     "end_time": "2021-01-23T11:37:57.109483Z",
     "start_time": "2021-01-23T11:37:57.106244Z"
    }
   },
   "outputs": [
    {
     "data": {
      "text/plain": [
       "'This is my sentence.'"
      ]
     },
     "execution_count": 39,
     "metadata": {},
     "output_type": "execute_result"
    }
   ],
   "source": [
    "one_sentence.strip()"
   ]
  },
  {
   "cell_type": "markdown",
   "metadata": {},
   "source": [
    "Затем, вам может понадобиться разделить предложение на отдельные слова или предложения."
   ]
  },
  {
   "cell_type": "code",
   "execution_count": 40,
   "metadata": {
    "ExecuteTime": {
     "end_time": "2021-01-23T11:38:17.465718Z",
     "start_time": "2021-01-23T11:38:17.461387Z"
    }
   },
   "outputs": [
    {
     "data": {
      "text/plain": [
       "['This', 'is', 'my', 'sentence.']"
      ]
     },
     "execution_count": 40,
     "metadata": {},
     "output_type": "execute_result"
    }
   ],
   "source": [
    "one_sentence.split()"
   ]
  },
  {
   "cell_type": "code",
   "execution_count": 41,
   "metadata": {
    "ExecuteTime": {
     "end_time": "2021-01-23T11:39:50.978676Z",
     "start_time": "2021-01-23T11:39:50.976753Z"
    }
   },
   "outputs": [],
   "source": [
    "our_sentence = 'Hello, I would like to have a cup of tea. Give it to me, please!'"
   ]
  },
  {
   "cell_type": "code",
   "execution_count": 42,
   "metadata": {
    "ExecuteTime": {
     "end_time": "2021-01-23T11:40:08.593431Z",
     "start_time": "2021-01-23T11:40:08.589325Z"
    }
   },
   "outputs": [
    {
     "data": {
      "text/plain": [
       "['Hello, I would like to have a cup of tea', ' Give it to me, please!']"
      ]
     },
     "execution_count": 42,
     "metadata": {},
     "output_type": "execute_result"
    }
   ],
   "source": [
    "our_sentence.split(sep='.')"
   ]
  },
  {
   "cell_type": "markdown",
   "metadata": {},
   "source": [
    "Вы видите, что произошло преобразование в тип list (с которым мы познакомимся позже), таким образом, строка разделилась по пробелам."
   ]
  },
  {
   "cell_type": "markdown",
   "metadata": {},
   "source": [
    "Также, в случае, если текст ненормирован и вы хотите привести все к заглавным или строчным буквам, существуют функции upper() и lower()"
   ]
  },
  {
   "cell_type": "code",
   "execution_count": 43,
   "metadata": {
    "ExecuteTime": {
     "end_time": "2021-01-23T11:40:45.794918Z",
     "start_time": "2021-01-23T11:40:45.791941Z"
    }
   },
   "outputs": [
    {
     "data": {
      "text/plain": [
       "'HELLO, I WOULD LIKE TO HAVE A CUP OF TEA. GIVE IT TO ME, PLEASE!'"
      ]
     },
     "execution_count": 43,
     "metadata": {},
     "output_type": "execute_result"
    }
   ],
   "source": [
    "our_sentence.upper()"
   ]
  },
  {
   "cell_type": "code",
   "execution_count": 44,
   "metadata": {
    "ExecuteTime": {
     "end_time": "2021-01-23T11:40:57.899517Z",
     "start_time": "2021-01-23T11:40:57.895905Z"
    }
   },
   "outputs": [
    {
     "data": {
      "text/plain": [
       "'hello, i would like to have a cup of tea. give it to me, please!'"
      ]
     },
     "execution_count": 44,
     "metadata": {},
     "output_type": "execute_result"
    }
   ],
   "source": [
    "our_sentence.lower()"
   ]
  },
  {
   "cell_type": "markdown",
   "metadata": {},
   "source": [
    "В конце концов, задача может быть обратной - у вас может быть набор слов, которые вы хотите склеить в единый текст. Для этого также существует операция."
   ]
  },
  {
   "cell_type": "code",
   "execution_count": 45,
   "metadata": {
    "ExecuteTime": {
     "end_time": "2021-01-23T11:41:28.504561Z",
     "start_time": "2021-01-23T11:41:28.502207Z"
    }
   },
   "outputs": [],
   "source": [
    "our_sentence = our_sentence.split()"
   ]
  },
  {
   "cell_type": "code",
   "execution_count": 46,
   "metadata": {
    "ExecuteTime": {
     "end_time": "2021-01-23T11:41:30.919387Z",
     "start_time": "2021-01-23T11:41:30.916150Z"
    }
   },
   "outputs": [
    {
     "data": {
      "text/plain": [
       "['Hello,',\n",
       " 'I',\n",
       " 'would',\n",
       " 'like',\n",
       " 'to',\n",
       " 'have',\n",
       " 'a',\n",
       " 'cup',\n",
       " 'of',\n",
       " 'tea.',\n",
       " 'Give',\n",
       " 'it',\n",
       " 'to',\n",
       " 'me,',\n",
       " 'please!']"
      ]
     },
     "execution_count": 46,
     "metadata": {},
     "output_type": "execute_result"
    }
   ],
   "source": [
    "our_sentence"
   ]
  },
  {
   "cell_type": "code",
   "execution_count": 48,
   "metadata": {
    "ExecuteTime": {
     "end_time": "2021-01-23T11:42:51.159040Z",
     "start_time": "2021-01-23T11:42:51.156141Z"
    }
   },
   "outputs": [],
   "source": [
    "our_sentence = ' '.join(our_sentence)"
   ]
  },
  {
   "cell_type": "markdown",
   "metadata": {},
   "source": [
    "Также полезны методы, проверки символов в начале и в конце строки."
   ]
  },
  {
   "cell_type": "code",
   "execution_count": 51,
   "metadata": {
    "ExecuteTime": {
     "end_time": "2021-01-23T11:43:09.456699Z",
     "start_time": "2021-01-23T11:43:09.452551Z"
    }
   },
   "outputs": [
    {
     "data": {
      "text/plain": [
       "True"
      ]
     },
     "execution_count": 51,
     "metadata": {},
     "output_type": "execute_result"
    }
   ],
   "source": [
    "our_sentence.startswith('Hello')"
   ]
  },
  {
   "cell_type": "code",
   "execution_count": 52,
   "metadata": {
    "ExecuteTime": {
     "end_time": "2021-01-23T11:43:24.749739Z",
     "start_time": "2021-01-23T11:43:24.745862Z"
    }
   },
   "outputs": [
    {
     "data": {
      "text/plain": [
       "True"
      ]
     },
     "execution_count": 52,
     "metadata": {},
     "output_type": "execute_result"
    }
   ],
   "source": [
    "our_sentence.endswith('!')"
   ]
  },
  {
   "cell_type": "markdown",
   "metadata": {},
   "source": [
    "Аналогичная функция позволяет проверить, содержится ли некоторая подстрока в строке:"
   ]
  },
  {
   "cell_type": "code",
   "execution_count": 53,
   "metadata": {
    "ExecuteTime": {
     "end_time": "2021-01-23T11:44:01.448770Z",
     "start_time": "2021-01-23T11:44:01.444290Z"
    }
   },
   "outputs": [
    {
     "data": {
      "text/plain": [
       "30"
      ]
     },
     "execution_count": 53,
     "metadata": {},
     "output_type": "execute_result"
    }
   ],
   "source": [
    "our_sentence.find('cup')"
   ]
  },
  {
   "cell_type": "markdown",
   "metadata": {},
   "source": [
    "Она возвращает порядковый номер первого символа из подстроки в строке. В итоге, мы можем взять часть строки с нужного вам символа:"
   ]
  },
  {
   "cell_type": "code",
   "execution_count": 54,
   "metadata": {
    "ExecuteTime": {
     "end_time": "2021-01-23T11:45:00.449059Z",
     "start_time": "2021-01-23T11:45:00.444879Z"
    }
   },
   "outputs": [
    {
     "data": {
      "text/plain": [
       "'Hello, I would like to have a cup of tea. Give it to me, please!'"
      ]
     },
     "execution_count": 54,
     "metadata": {},
     "output_type": "execute_result"
    }
   ],
   "source": [
    "our_sentence"
   ]
  },
  {
   "cell_type": "code",
   "execution_count": 56,
   "metadata": {
    "ExecuteTime": {
     "end_time": "2021-01-23T11:45:25.938532Z",
     "start_time": "2021-01-23T11:45:25.934765Z"
    }
   },
   "outputs": [
    {
     "data": {
      "text/plain": [
       "'cup of tea. Give it to me, please!'"
      ]
     },
     "execution_count": 56,
     "metadata": {},
     "output_type": "execute_result"
    }
   ],
   "source": [
    "our_sentence[30:]"
   ]
  },
  {
   "cell_type": "markdown",
   "metadata": {},
   "source": [
    "Если подстроку невозможно найти, то возвращается -1:"
   ]
  },
  {
   "cell_type": "code",
   "execution_count": 57,
   "metadata": {
    "ExecuteTime": {
     "end_time": "2021-01-23T11:45:38.572821Z",
     "start_time": "2021-01-23T11:45:38.568564Z"
    }
   },
   "outputs": [
    {
     "data": {
      "text/plain": [
       "-1"
      ]
     },
     "execution_count": 57,
     "metadata": {},
     "output_type": "execute_result"
    }
   ],
   "source": [
    "our_sentence.find('unicorn')"
   ]
  },
  {
   "cell_type": "code",
   "execution_count": null,
   "metadata": {},
   "outputs": [],
   "source": []
  }
 ],
 "metadata": {
  "kernelspec": {
   "display_name": "Python 3",
   "language": "python",
   "name": "python3"
  },
  "language_info": {
   "codemirror_mode": {
    "name": "ipython",
    "version": 3
   },
   "file_extension": ".py",
   "mimetype": "text/x-python",
   "name": "python",
   "nbconvert_exporter": "python",
   "pygments_lexer": "ipython3",
   "version": "3.7.8"
  },
  "latex_envs": {
   "LaTeX_envs_menu_present": true,
   "autoclose": false,
   "autocomplete": true,
   "bibliofile": "biblio.bib",
   "cite_by": "apalike",
   "current_citInitial": 1,
   "eqLabelWithNumbers": true,
   "eqNumInitial": 1,
   "hotkeys": {
    "equation": "Ctrl-E",
    "itemize": "Ctrl-I"
   },
   "labels_anchors": false,
   "latex_user_defs": false,
   "report_style_numbering": false,
   "user_envs_cfg": false
  },
  "toc": {
   "base_numbering": 1,
   "nav_menu": {},
   "number_sections": true,
   "sideBar": true,
   "skip_h1_title": true,
   "title_cell": "Table of Contents",
   "title_sidebar": "Contents",
   "toc_cell": false,
   "toc_position": {
    "height": "calc(100% - 180px)",
    "left": "10px",
    "top": "150px",
    "width": "212px"
   },
   "toc_section_display": true,
   "toc_window_display": true
  },
  "varInspector": {
   "cols": {
    "lenName": 16,
    "lenType": 16,
    "lenVar": 40
   },
   "kernels_config": {
    "python": {
     "delete_cmd_postfix": "",
     "delete_cmd_prefix": "del ",
     "library": "var_list.py",
     "varRefreshCmd": "print(var_dic_list())"
    },
    "r": {
     "delete_cmd_postfix": ") ",
     "delete_cmd_prefix": "rm(",
     "library": "var_list.r",
     "varRefreshCmd": "cat(var_dic_list()) "
    }
   },
   "types_to_exclude": [
    "module",
    "function",
    "builtin_function_or_method",
    "instance",
    "_Feature"
   ],
   "window_display": false
  }
 },
 "nbformat": 4,
 "nbformat_minor": 4
}
