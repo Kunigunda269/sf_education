{
 "cells": [
  {
   "cell_type": "code",
   "execution_count": 1,
   "metadata": {},
   "outputs": [],
   "source": [
    "import numpy as np"
   ]
  },
  {
   "cell_type": "markdown",
   "metadata": {},
   "source": [
    "### Случайные величины"
   ]
  },
  {
   "cell_type": "code",
   "execution_count": 13,
   "metadata": {},
   "outputs": [],
   "source": [
    "a = [0, 1, 2, 3, 4, 5, 6]"
   ]
  },
  {
   "cell_type": "code",
   "execution_count": 29,
   "metadata": {},
   "outputs": [],
   "source": [
    "p = [0, 0, 0, 0, 0, 0.9, 0.1]"
   ]
  },
  {
   "cell_type": "code",
   "execution_count": 31,
   "metadata": {},
   "outputs": [
    {
     "data": {
      "text/plain": [
       "array([3, 2, 4, 3, 0, 5, 5, 0, 2])"
      ]
     },
     "execution_count": 31,
     "metadata": {},
     "output_type": "execute_result"
    }
   ],
   "source": [
    "np.random.choice(a=a, size=9)"
   ]
  },
  {
   "cell_type": "code",
   "execution_count": 32,
   "metadata": {},
   "outputs": [],
   "source": [
    "b = np.array([1, 2, 3, 4, 5])\n",
    "np.random.shuffle(b)"
   ]
  },
  {
   "cell_type": "code",
   "execution_count": 33,
   "metadata": {},
   "outputs": [
    {
     "data": {
      "text/plain": [
       "array([5, 2, 4, 1, 3])"
      ]
     },
     "execution_count": 33,
     "metadata": {},
     "output_type": "execute_result"
    }
   ],
   "source": [
    "b"
   ]
  },
  {
   "cell_type": "code",
   "execution_count": 34,
   "metadata": {},
   "outputs": [],
   "source": [
    "b = np.array([1, 2, 3, 4, 5])"
   ]
  },
  {
   "cell_type": "code",
   "execution_count": 37,
   "metadata": {},
   "outputs": [],
   "source": [
    "c = np.random.permutation(b)"
   ]
  },
  {
   "cell_type": "code",
   "execution_count": 36,
   "metadata": {},
   "outputs": [
    {
     "data": {
      "text/plain": [
       "array([1, 2, 3, 4, 5])"
      ]
     },
     "execution_count": 36,
     "metadata": {},
     "output_type": "execute_result"
    }
   ],
   "source": [
    "b"
   ]
  },
  {
   "cell_type": "code",
   "execution_count": 38,
   "metadata": {},
   "outputs": [
    {
     "data": {
      "text/plain": [
       "array([2, 1, 5, 3, 4])"
      ]
     },
     "execution_count": 38,
     "metadata": {},
     "output_type": "execute_result"
    }
   ],
   "source": [
    "c"
   ]
  },
  {
   "cell_type": "code",
   "execution_count": 41,
   "metadata": {},
   "outputs": [
    {
     "data": {
      "text/plain": [
       "array([9, 0, 3, 1, 4, 2, 8, 7, 5, 6])"
      ]
     },
     "execution_count": 41,
     "metadata": {},
     "output_type": "execute_result"
    }
   ],
   "source": [
    "np.random.permutation(10)"
   ]
  },
  {
   "cell_type": "code",
   "execution_count": 45,
   "metadata": {},
   "outputs": [
    {
     "data": {
      "text/plain": [
       "0.46907236959983656"
      ]
     },
     "execution_count": 45,
     "metadata": {},
     "output_type": "execute_result"
    }
   ],
   "source": [
    "np.random.sample()"
   ]
  },
  {
   "cell_type": "code",
   "execution_count": 46,
   "metadata": {},
   "outputs": [
    {
     "data": {
      "text/plain": [
       "array([[[0.88866929, 0.77501809, 0.00214648, 0.87332671, 0.17840778],\n",
       "        [0.94385273, 0.8501209 , 0.71730887, 0.71834193, 0.92697704],\n",
       "        [0.15313563, 0.5219587 , 0.85442106, 0.59637859, 0.16600231]],\n",
       "\n",
       "       [[0.61514537, 0.52676229, 0.2395906 , 0.59646546, 0.98509604],\n",
       "        [0.55699323, 0.13956731, 0.46795562, 0.07434243, 0.14691156],\n",
       "        [0.05982123, 0.40514361, 0.08117749, 0.30373108, 0.47255186]]])"
      ]
     },
     "execution_count": 46,
     "metadata": {},
     "output_type": "execute_result"
    }
   ],
   "source": [
    "np.random.rand(2, 3, 5)"
   ]
  },
  {
   "cell_type": "code",
   "execution_count": 48,
   "metadata": {},
   "outputs": [
    {
     "data": {
      "text/plain": [
       "array([8, 6, 6, 6, 5, 8, 5, 8, 8, 8, 7, 9, 8, 6, 6, 6, 7, 6, 5, 7])"
      ]
     },
     "execution_count": 48,
     "metadata": {},
     "output_type": "execute_result"
    }
   ],
   "source": [
    "np.random.randint(5, 10, size=20)"
   ]
  },
  {
   "cell_type": "code",
   "execution_count": 49,
   "metadata": {},
   "outputs": [
    {
     "data": {
      "text/plain": [
       "array([ 3.0821401 ,  9.0834205 , 10.16698809,  1.80942396,  2.53005503,\n",
       "        6.69393288, 11.21975888,  3.30492774,  5.67960622,  6.20975578,\n",
       "        2.9658395 ,  4.23022888, -1.2739587 ,  2.16764374,  6.20359717,\n",
       "        5.11362021,  2.04982526,  5.33333448,  7.94191051,  5.30063549,\n",
       "       -0.05879056,  0.7989338 ,  5.24868728,  3.32197242,  4.77314912,\n",
       "        7.65891947,  5.35369873,  9.71293796,  4.9823389 ,  0.3102678 ,\n",
       "        6.47438866,  4.31977053,  4.73133146,  2.16786626,  6.77645673,\n",
       "        6.72899492,  3.16915522,  7.87444584,  7.34481577,  0.54154795,\n",
       "        4.5094348 ,  1.92608754,  3.49109677,  2.35269022,  6.3179499 ,\n",
       "        2.51270696,  3.69972661,  5.74683164,  6.33806971,  5.11842937,\n",
       "        3.42884707,  3.68535161,  3.78564366,  7.56510499,  7.88511333,\n",
       "        2.30615426,  3.40899519,  6.08330783,  5.65686953,  7.20190741,\n",
       "        4.10531939,  4.29351544,  9.05824988,  2.73045802,  6.93601676,\n",
       "        5.4265795 ,  4.64324028,  6.64437463,  7.46641888,  5.14868177,\n",
       "        8.1423153 ,  0.9688895 ,  7.26078619,  7.07077658,  8.29272712,\n",
       "        5.27329764,  8.73420734,  4.92675107, 10.32720007,  7.71172711,\n",
       "        5.03804082,  9.56483083, 11.82434793,  4.20338292,  1.8540071 ,\n",
       "        8.68675482,  5.98059053,  0.04331614,  5.80868403,  5.06836101,\n",
       "        3.10395523,  7.8740503 ,  6.35040149,  4.00807567,  4.19831095,\n",
       "        7.83899337,  3.20783523,  4.93155208,  3.98754958,  9.11201304])"
      ]
     },
     "execution_count": 49,
     "metadata": {},
     "output_type": "execute_result"
    }
   ],
   "source": [
    "np.random.normal(5, 2.5, 100)"
   ]
  },
  {
   "cell_type": "code",
   "execution_count": 51,
   "metadata": {},
   "outputs": [
    {
     "data": {
      "text/plain": [
       "8.568602793719666"
      ]
     },
     "execution_count": 51,
     "metadata": {},
     "output_type": "execute_result"
    }
   ],
   "source": [
    "np.random."
   ]
  }
 ],
 "metadata": {
  "kernelspec": {
   "display_name": "Python 3.9.6 64-bit",
   "language": "python",
   "name": "python3"
  },
  "language_info": {
   "codemirror_mode": {
    "name": "ipython",
    "version": 3
   },
   "file_extension": ".py",
   "mimetype": "text/x-python",
   "name": "python",
   "nbconvert_exporter": "python",
   "pygments_lexer": "ipython3",
   "version": "3.9.6"
  },
  "orig_nbformat": 4,
  "vscode": {
   "interpreter": {
    "hash": "cf92aa13fedf815d5c8dd192b8d835913fde3e8bc926b2a0ad6cc74ef2ba3ca2"
   }
  }
 },
 "nbformat": 4,
 "nbformat_minor": 2
}
