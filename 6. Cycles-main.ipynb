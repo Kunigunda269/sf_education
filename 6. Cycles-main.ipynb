{
 "cells": [
  {
   "cell_type": "markdown",
   "metadata": {},
   "source": [
    "# Циклы "
   ]
  },
  {
   "cell_type": "markdown",
   "metadata": {},
   "source": [
    "После знакомства со сложными типами данных легко понять необходимость циклов.\n",
    "\n",
    "Comprehensions - аналоги циклов, однако циклы в явном виде могут позволить делать различные операции над списками, словарями, кортежами."
   ]
  },
  {
   "cell_type": "markdown",
   "metadata": {},
   "source": [
    "## Цикл  for "
   ]
  },
  {
   "cell_type": "markdown",
   "metadata": {},
   "source": [
    "Циклы for позволяют итерироваться по объектам и совершать различные операции. Синтаксис следующий:\n",
    "\n",
    "```python\n",
    "for <variable> in <object/generator>:\n",
    "    <code block>\n",
    "```"
   ]
  },
  {
   "cell_type": "markdown",
   "metadata": {},
   "source": [
    "* в качестве переменной может быть одна или несколько переменных по которым мы хотим итерироваться, \n",
    "* объект или генератор - это то множество значений, по которому проводится итерация (значение нашей переменной принимает значения элементов из данного объекта), \n",
    "* блок кода - какой угодно код."
   ]
  },
  {
   "cell_type": "code",
   "execution_count": 1,
   "metadata": {
    "ExecuteTime": {
     "end_time": "2021-01-23T14:22:19.997165Z",
     "start_time": "2021-01-23T14:22:19.994131Z"
    }
   },
   "outputs": [],
   "source": [
    "mylist = [1, 2, 3, 'value', 'abs', True, False]"
   ]
  },
  {
   "cell_type": "code",
   "execution_count": 2,
   "metadata": {
    "ExecuteTime": {
     "end_time": "2021-01-23T14:22:22.212950Z",
     "start_time": "2021-01-23T14:22:22.203515Z"
    }
   },
   "outputs": [
    {
     "data": {
      "text/plain": [
       "[1, 2, 3, 'value', 'abs', True, False]"
      ]
     },
     "execution_count": 2,
     "metadata": {},
     "output_type": "execute_result"
    }
   ],
   "source": [
    "mylist"
   ]
  },
  {
   "cell_type": "code",
   "execution_count": 3,
   "metadata": {
    "ExecuteTime": {
     "end_time": "2021-01-23T14:22:38.714136Z",
     "start_time": "2021-01-23T14:22:38.711048Z"
    }
   },
   "outputs": [
    {
     "name": "stdout",
     "output_type": "stream",
     "text": [
      "1\n",
      "2\n",
      "3\n",
      "value\n",
      "abs\n",
      "True\n",
      "False\n"
     ]
    }
   ],
   "source": [
    "for i in mylist:\n",
    "    print(i)"
   ]
  },
  {
   "cell_type": "markdown",
   "metadata": {},
   "source": [
    "Понятно что мы можем также усложнять код внутри, добавляя условия и вложенные циклы:"
   ]
  },
  {
   "cell_type": "code",
   "execution_count": 4,
   "metadata": {
    "ExecuteTime": {
     "end_time": "2021-01-23T14:23:07.789081Z",
     "start_time": "2021-01-23T14:23:07.786721Z"
    }
   },
   "outputs": [],
   "source": [
    "mylist.append([5,6,7])"
   ]
  },
  {
   "cell_type": "code",
   "execution_count": 5,
   "metadata": {
    "ExecuteTime": {
     "end_time": "2021-01-23T14:23:12.784037Z",
     "start_time": "2021-01-23T14:23:12.779573Z"
    }
   },
   "outputs": [
    {
     "data": {
      "text/plain": [
       "[1, 2, 3, 'value', 'abs', True, False, [5, 6, 7]]"
      ]
     },
     "execution_count": 5,
     "metadata": {},
     "output_type": "execute_result"
    }
   ],
   "source": [
    "mylist"
   ]
  },
  {
   "cell_type": "code",
   "execution_count": 7,
   "metadata": {
    "ExecuteTime": {
     "end_time": "2021-01-23T14:24:50.107043Z",
     "start_time": "2021-01-23T14:24:50.102506Z"
    }
   },
   "outputs": [
    {
     "name": "stdout",
     "output_type": "stream",
     "text": [
      "1\n",
      "2\n",
      "3\n",
      "value\n",
      "abs\n",
      "True\n",
      "False\n",
      "5\n",
      "6\n",
      "7\n"
     ]
    }
   ],
   "source": [
    "for i in mylist:\n",
    "    if type(i) == list:\n",
    "        for j in i:\n",
    "            print(j)\n",
    "    else:\n",
    "        print(i)"
   ]
  },
  {
   "cell_type": "markdown",
   "metadata": {},
   "source": [
    "Итерация может проводится по более сложным объектам. Если мы знаем, что наш список состоит из пар (либо если мы имеем словарь):"
   ]
  },
  {
   "cell_type": "code",
   "execution_count": 8,
   "metadata": {
    "ExecuteTime": {
     "end_time": "2021-01-23T14:25:24.356557Z",
     "start_time": "2021-01-23T14:25:24.354009Z"
    }
   },
   "outputs": [],
   "source": [
    "mydict = {1: 'one', 2: 'two', 3: 'three'}"
   ]
  },
  {
   "cell_type": "code",
   "execution_count": 9,
   "metadata": {
    "ExecuteTime": {
     "end_time": "2021-01-23T14:25:26.527885Z",
     "start_time": "2021-01-23T14:25:26.523904Z"
    }
   },
   "outputs": [
    {
     "data": {
      "text/plain": [
       "{1: 'one', 2: 'two', 3: 'three'}"
      ]
     },
     "execution_count": 9,
     "metadata": {},
     "output_type": "execute_result"
    }
   ],
   "source": [
    "mydict"
   ]
  },
  {
   "cell_type": "code",
   "execution_count": 10,
   "metadata": {
    "ExecuteTime": {
     "end_time": "2021-01-23T14:26:14.163213Z",
     "start_time": "2021-01-23T14:26:14.159457Z"
    }
   },
   "outputs": [
    {
     "name": "stdout",
     "output_type": "stream",
     "text": [
      "1:one\n",
      "2:two\n",
      "3:three\n"
     ]
    }
   ],
   "source": [
    "for key, value in mydict.items():\n",
    "    print(f'{key}:{value}')"
   ]
  },
  {
   "cell_type": "markdown",
   "metadata": {},
   "source": [
    "Рассмотрим случай с объектом range. Если у нас предполагаются итерации по большому множеству значений, эффективней будет создать объект range, который будет при итерации выдавать значения, а не хранить их в памяти. "
   ]
  },
  {
   "cell_type": "code",
   "execution_count": 11,
   "metadata": {
    "ExecuteTime": {
     "end_time": "2021-01-23T14:26:41.508922Z",
     "start_time": "2021-01-23T14:26:41.504886Z"
    }
   },
   "outputs": [
    {
     "data": {
      "text/plain": [
       "range(0, 10)"
      ]
     },
     "execution_count": 11,
     "metadata": {},
     "output_type": "execute_result"
    }
   ],
   "source": [
    "range(10)"
   ]
  },
  {
   "cell_type": "markdown",
   "metadata": {},
   "source": [
    "Его можно материализовать, преобразовав, например, в список:"
   ]
  },
  {
   "cell_type": "code",
   "execution_count": 12,
   "metadata": {
    "ExecuteTime": {
     "end_time": "2021-01-23T14:27:04.411226Z",
     "start_time": "2021-01-23T14:27:04.407667Z"
    }
   },
   "outputs": [
    {
     "data": {
      "text/plain": [
       "[0, 1, 2, 3, 4, 5, 6, 7, 8, 9]"
      ]
     },
     "execution_count": 12,
     "metadata": {},
     "output_type": "execute_result"
    }
   ],
   "source": [
    "list(range(10))"
   ]
  },
  {
   "cell_type": "code",
   "execution_count": 13,
   "metadata": {
    "ExecuteTime": {
     "end_time": "2021-01-23T14:27:38.577162Z",
     "start_time": "2021-01-23T14:27:38.574415Z"
    }
   },
   "outputs": [
    {
     "name": "stdout",
     "output_type": "stream",
     "text": [
      "0\n",
      "2\n",
      "4\n",
      "6\n",
      "8\n",
      "10\n",
      "12\n",
      "14\n",
      "16\n",
      "18\n"
     ]
    }
   ],
   "source": [
    "for i in range(10):\n",
    "    i*=2\n",
    "    print(i)"
   ]
  },
  {
   "cell_type": "markdown",
   "metadata": {},
   "source": [
    "Полезной функцией является функция enumerate, которая возвращает пронумерованные элементы объекта, поданного в него."
   ]
  },
  {
   "cell_type": "code",
   "execution_count": 14,
   "metadata": {
    "ExecuteTime": {
     "end_time": "2021-01-23T14:28:45.238055Z",
     "start_time": "2021-01-23T14:28:45.234442Z"
    }
   },
   "outputs": [
    {
     "name": "stdout",
     "output_type": "stream",
     "text": [
      "0:1\n",
      "1:2\n",
      "2:3\n",
      "3:value\n",
      "4:abs\n",
      "5:True\n",
      "6:False\n",
      "7:[5, 6, 7]\n"
     ]
    }
   ],
   "source": [
    "for n, i in enumerate(mylist):\n",
    "    print(f'{n}:{i}')"
   ]
  },
  {
   "cell_type": "markdown",
   "metadata": {},
   "source": [
    "## Условные циклы"
   ]
  },
  {
   "cell_type": "markdown",
   "metadata": {},
   "source": [
    "Бывает, что необходимо проводить цикл до тех пор, пока выполняется некое условие. К примеру, результат операции превышает некоторое значение."
   ]
  },
  {
   "cell_type": "markdown",
   "metadata": {},
   "source": [
    "Данный цикл называется условным циклом. Его синтаксис:\n",
    "```python\n",
    "while <condition>:\n",
    "    <code block>\n",
    "```"
   ]
  },
  {
   "cell_type": "code",
   "execution_count": 16,
   "metadata": {
    "ExecuteTime": {
     "end_time": "2021-01-23T14:31:27.772351Z",
     "start_time": "2021-01-23T14:31:27.768327Z"
    }
   },
   "outputs": [
    {
     "name": "stdout",
     "output_type": "stream",
     "text": [
      "1\n",
      "2\n",
      "4\n",
      "8\n",
      "16\n"
     ]
    }
   ],
   "source": [
    "x = 1\n",
    "while x<10:\n",
    "    print(x)\n",
    "    x *= 2\n",
    "    \n",
    "print(x)"
   ]
  },
  {
   "cell_type": "markdown",
   "metadata": {},
   "source": [
    "Как только условие будет нарушено, цикл прерывается и начинается выполнение дальнейшего кода в ячейке/программе.\n",
    "Это бывает удобно для операций с вводом значений пользователем и во многих других случаях."
   ]
  },
  {
   "cell_type": "code",
   "execution_count": 17,
   "metadata": {
    "ExecuteTime": {
     "end_time": "2021-01-23T14:33:52.338665Z",
     "start_time": "2021-01-23T14:33:21.797892Z"
    }
   },
   "outputs": [
    {
     "name": "stdout",
     "output_type": "stream",
     "text": [
      "this is not quit\n",
      "djdj\n",
      "this is not quit\n",
      "ghgh\n",
      "this is not quit\n",
      "quit\n",
      "this is quit\n"
     ]
    }
   ],
   "source": [
    "text = ''\n",
    "while text != 'quit':\n",
    "    print('this is not quit')\n",
    "    text = input()\n",
    "    \n",
    "print('this is quit')"
   ]
  },
  {
   "cell_type": "markdown",
   "metadata": {},
   "source": [
    "В ходе работы с циклами (особенно условными) может возникнуть проблема бесконечного цикла. Когда существует ошибка в коде и это приводит к бесконечному выполнению цикла, что перегружает процессор и не дает выполняться программе далее. Для борьбы с этим существует оператор break."
   ]
  },
  {
   "cell_type": "code",
   "execution_count": 18,
   "metadata": {
    "ExecuteTime": {
     "end_time": "2021-01-23T14:36:58.259050Z",
     "start_time": "2021-01-23T14:36:58.253220Z"
    }
   },
   "outputs": [
    {
     "name": "stdout",
     "output_type": "stream",
     "text": [
      "Looks like infinite loop\n",
      "Loop is terminated. count is 10001\n"
     ]
    }
   ],
   "source": [
    "count = 0\n",
    "value = 0\n",
    "\n",
    "while value < 1000:\n",
    "    value = value\n",
    "    count += 1\n",
    "    if count > 10000:\n",
    "        print('Looks like infinite loop')\n",
    "        break\n",
    "print(f'Loop is terminated. count is {count}')"
   ]
  },
  {
   "cell_type": "markdown",
   "metadata": {},
   "source": [
    "Схожий по смыслу оператор continue делает возможным продолжить выполнение цикла, перепрыгивая сразу в начало следующего цикла."
   ]
  },
  {
   "cell_type": "code",
   "execution_count": 19,
   "metadata": {
    "ExecuteTime": {
     "end_time": "2021-01-23T14:40:01.170298Z",
     "start_time": "2021-01-23T14:40:01.163436Z"
    }
   },
   "outputs": [
    {
     "name": "stdout",
     "output_type": "stream",
     "text": [
      "Looks like infinite loop\n",
      "Loop is terminated. count is 10002\n"
     ]
    }
   ],
   "source": [
    "count = 0\n",
    "value = 0\n",
    "\n",
    "while value != 1000:\n",
    "    value += 1 \n",
    "    count += 1\n",
    "    if (value == 1000) | (count == 10001):\n",
    "        value+=1\n",
    "        continue\n",
    "    if count > 10000:\n",
    "        print('Looks like infinite loop')\n",
    "        break\n",
    "print(f'Loop is terminated. count is {count}')"
   ]
  },
  {
   "cell_type": "markdown",
   "metadata": {},
   "source": [
    "Операторы count и break нужно использовать с осторожностью, так как они видоизменяют логику цикла и за ней становится сложно следить. Следует по возможности их избегатьВ  и использовать лишь в случае крайней необходимости."
   ]
  },
  {
   "cell_type": "markdown",
   "metadata": {},
   "source": [
    "Но иногда все же требуется создать бесконечный цикл, который будет выходить только по условию:"
   ]
  },
  {
   "cell_type": "code",
   "execution_count": 20,
   "metadata": {
    "ExecuteTime": {
     "end_time": "2021-01-23T14:42:21.132024Z",
     "start_time": "2021-01-23T14:42:12.818977Z"
    }
   },
   "outputs": [
    {
     "name": "stdout",
     "output_type": "stream",
     "text": [
      "ghg\n",
      "ghgh\n",
      "ajaja\n",
      "quit\n"
     ]
    }
   ],
   "source": [
    "while True:\n",
    "    text = input()\n",
    "    if text == 'quit':\n",
    "        break"
   ]
  },
  {
   "cell_type": "code",
   "execution_count": null,
   "metadata": {},
   "outputs": [],
   "source": []
  }
 ],
 "metadata": {
  "kernelspec": {
   "display_name": "Python 3",
   "language": "python",
   "name": "python3"
  },
  "language_info": {
   "codemirror_mode": {
    "name": "ipython",
    "version": 3
   },
   "file_extension": ".py",
   "mimetype": "text/x-python",
   "name": "python",
   "nbconvert_exporter": "python",
   "pygments_lexer": "ipython3",
   "version": "3.7.8"
  },
  "latex_envs": {
   "LaTeX_envs_menu_present": true,
   "autoclose": false,
   "autocomplete": true,
   "bibliofile": "biblio.bib",
   "cite_by": "apalike",
   "current_citInitial": 1,
   "eqLabelWithNumbers": true,
   "eqNumInitial": 1,
   "hotkeys": {
    "equation": "Ctrl-E",
    "itemize": "Ctrl-I"
   },
   "labels_anchors": false,
   "latex_user_defs": false,
   "report_style_numbering": false,
   "user_envs_cfg": false
  },
  "toc": {
   "base_numbering": 1,
   "nav_menu": {},
   "number_sections": false,
   "sideBar": false,
   "skip_h1_title": false,
   "title_cell": "Table of Contents",
   "title_sidebar": "Contents",
   "toc_cell": false,
   "toc_position": {},
   "toc_section_display": false,
   "toc_window_display": false
  },
  "varInspector": {
   "cols": {
    "lenName": 16,
    "lenType": 16,
    "lenVar": 40
   },
   "kernels_config": {
    "python": {
     "delete_cmd_postfix": "",
     "delete_cmd_prefix": "del ",
     "library": "var_list.py",
     "varRefreshCmd": "print(var_dic_list())"
    },
    "r": {
     "delete_cmd_postfix": ") ",
     "delete_cmd_prefix": "rm(",
     "library": "var_list.r",
     "varRefreshCmd": "cat(var_dic_list()) "
    }
   },
   "types_to_exclude": [
    "module",
    "function",
    "builtin_function_or_method",
    "instance",
    "_Feature"
   ],
   "window_display": false
  }
 },
 "nbformat": 4,
 "nbformat_minor": 4
}
