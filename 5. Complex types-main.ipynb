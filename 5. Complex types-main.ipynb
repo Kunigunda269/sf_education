{
 "cells": [
  {
   "cell_type": "markdown",
   "metadata": {},
   "source": [
    "# Complex types"
   ]
  },
  {
   "cell_type": "markdown",
   "metadata": {},
   "source": [
    "Мы познакомились с простыми типами данных, такими как числовые типы, строки, булевы переменные и с операциями над ними. В этом занятии рассмотрим сложные типы данных, которые содержат не одно, а множество значений и могут объединять в себе значения различных элементарных типов."
   ]
  },
  {
   "cell_type": "markdown",
   "metadata": {},
   "source": [
    "## List"
   ]
  },
  {
   "cell_type": "markdown",
   "metadata": {},
   "source": [
    "Первый тип данных, который мы рассмотрим здесь - это список или list."
   ]
  },
  {
   "cell_type": "code",
   "execution_count": 1,
   "metadata": {
    "ExecuteTime": {
     "end_time": "2021-01-23T13:39:42.200968Z",
     "start_time": "2021-01-23T13:39:42.198300Z"
    }
   },
   "outputs": [],
   "source": [
    "our_list = list()"
   ]
  },
  {
   "cell_type": "code",
   "execution_count": 2,
   "metadata": {
    "ExecuteTime": {
     "end_time": "2021-01-23T13:39:46.413429Z",
     "start_time": "2021-01-23T13:39:46.404080Z"
    }
   },
   "outputs": [
    {
     "data": {
      "text/plain": [
       "[]"
      ]
     },
     "execution_count": 2,
     "metadata": {},
     "output_type": "execute_result"
    }
   ],
   "source": [
    "our_list"
   ]
  },
  {
   "cell_type": "code",
   "execution_count": 3,
   "metadata": {
    "ExecuteTime": {
     "end_time": "2021-01-23T13:40:11.278048Z",
     "start_time": "2021-01-23T13:40:11.273499Z"
    }
   },
   "outputs": [
    {
     "data": {
      "text/plain": [
       "list"
      ]
     },
     "execution_count": 3,
     "metadata": {},
     "output_type": "execute_result"
    }
   ],
   "source": [
    "type(our_list)"
   ]
  },
  {
   "cell_type": "code",
   "execution_count": 4,
   "metadata": {
    "ExecuteTime": {
     "end_time": "2021-01-23T13:40:19.882183Z",
     "start_time": "2021-01-23T13:40:19.880282Z"
    }
   },
   "outputs": [],
   "source": [
    "our_list = []"
   ]
  },
  {
   "cell_type": "code",
   "execution_count": 5,
   "metadata": {
    "ExecuteTime": {
     "end_time": "2021-01-23T13:40:25.942170Z",
     "start_time": "2021-01-23T13:40:25.939289Z"
    }
   },
   "outputs": [
    {
     "data": {
      "text/plain": [
       "list"
      ]
     },
     "execution_count": 5,
     "metadata": {},
     "output_type": "execute_result"
    }
   ],
   "source": [
    "type(our_list)"
   ]
  },
  {
   "cell_type": "markdown",
   "metadata": {},
   "source": [
    "Он может содержать в себе различные переменные разных типов. Можно задавать пустой лист, можно задавать уже заполненный лист. С ними мы сталкивались ранее при разделении строк, тогда список состоял из набора строк."
   ]
  },
  {
   "cell_type": "code",
   "execution_count": 6,
   "metadata": {
    "ExecuteTime": {
     "end_time": "2021-01-23T13:41:18.793427Z",
     "start_time": "2021-01-23T13:41:18.790692Z"
    }
   },
   "outputs": [],
   "source": [
    "mixed_list = [1, 2, 'abab', True, 3.14, 2+3j, '']"
   ]
  },
  {
   "cell_type": "code",
   "execution_count": 7,
   "metadata": {
    "ExecuteTime": {
     "end_time": "2021-01-23T13:41:21.462474Z",
     "start_time": "2021-01-23T13:41:21.458428Z"
    }
   },
   "outputs": [
    {
     "data": {
      "text/plain": [
       "[1, 2, 'abab', True, 3.14, (2+3j), '']"
      ]
     },
     "execution_count": 7,
     "metadata": {},
     "output_type": "execute_result"
    }
   ],
   "source": [
    "mixed_list"
   ]
  },
  {
   "cell_type": "markdown",
   "metadata": {},
   "source": [
    "Для работы со списками имеются встроенные в Python методы. Рассмотрим несколько полезных методов."
   ]
  },
  {
   "cell_type": "code",
   "execution_count": 8,
   "metadata": {
    "ExecuteTime": {
     "end_time": "2021-01-23T13:41:41.522028Z",
     "start_time": "2021-01-23T13:41:41.516489Z"
    }
   },
   "outputs": [
    {
     "data": {
      "text/plain": [
       "7"
      ]
     },
     "execution_count": 8,
     "metadata": {},
     "output_type": "execute_result"
    }
   ],
   "source": [
    "len(mixed_list)"
   ]
  },
  {
   "cell_type": "code",
   "execution_count": 9,
   "metadata": {
    "ExecuteTime": {
     "end_time": "2021-01-23T13:41:52.343566Z",
     "start_time": "2021-01-23T13:41:52.340112Z"
    }
   },
   "outputs": [
    {
     "data": {
      "text/plain": [
       "0"
      ]
     },
     "execution_count": 9,
     "metadata": {},
     "output_type": "execute_result"
    }
   ],
   "source": [
    "len(our_list)"
   ]
  },
  {
   "cell_type": "markdown",
   "metadata": {},
   "source": [
    "К конкретному элементу списка можно обратиться по его порядковому номеру (нумерация идет с нуля), похожим образом можно извлечь подсписок, начиная с некоторого номера."
   ]
  },
  {
   "cell_type": "code",
   "execution_count": 11,
   "metadata": {
    "ExecuteTime": {
     "end_time": "2021-01-23T13:42:24.602794Z",
     "start_time": "2021-01-23T13:42:24.598508Z"
    }
   },
   "outputs": [
    {
     "data": {
      "text/plain": [
       "'abab'"
      ]
     },
     "execution_count": 11,
     "metadata": {},
     "output_type": "execute_result"
    }
   ],
   "source": [
    "mixed_list[2]"
   ]
  },
  {
   "cell_type": "markdown",
   "metadata": {},
   "source": [
    "Подход, который позволяет брать несколько значений, начиная с некоторого называется slicing."
   ]
  },
  {
   "cell_type": "code",
   "execution_count": 14,
   "metadata": {
    "ExecuteTime": {
     "end_time": "2021-01-23T13:43:27.678383Z",
     "start_time": "2021-01-23T13:43:27.673185Z"
    }
   },
   "outputs": [
    {
     "data": {
      "text/plain": [
       "['abab', True, 3.14]"
      ]
     },
     "execution_count": 14,
     "metadata": {},
     "output_type": "execute_result"
    }
   ],
   "source": [
    "mixed_list[2:5]"
   ]
  },
  {
   "cell_type": "code",
   "execution_count": 16,
   "metadata": {
    "ExecuteTime": {
     "end_time": "2021-01-23T13:44:00.717567Z",
     "start_time": "2021-01-23T13:44:00.713412Z"
    }
   },
   "outputs": [
    {
     "data": {
      "text/plain": [
       "['abab', True, 3.14, (2+3j)]"
      ]
     },
     "execution_count": 16,
     "metadata": {},
     "output_type": "execute_result"
    }
   ],
   "source": [
    "mixed_list[2:-1]"
   ]
  },
  {
   "cell_type": "code",
   "execution_count": 19,
   "metadata": {
    "ExecuteTime": {
     "end_time": "2021-01-23T13:44:47.099224Z",
     "start_time": "2021-01-23T13:44:47.095272Z"
    }
   },
   "outputs": [
    {
     "data": {
      "text/plain": [
       "[2, 'abab', True, 3.14, (2+3j), '']"
      ]
     },
     "execution_count": 19,
     "metadata": {},
     "output_type": "execute_result"
    }
   ],
   "source": [
    "mixed_list[1:]"
   ]
  },
  {
   "cell_type": "code",
   "execution_count": 18,
   "metadata": {
    "ExecuteTime": {
     "end_time": "2021-01-23T13:44:35.283713Z",
     "start_time": "2021-01-23T13:44:35.279174Z"
    }
   },
   "outputs": [
    {
     "data": {
      "text/plain": [
       "[2, True, (2+3j)]"
      ]
     },
     "execution_count": 18,
     "metadata": {},
     "output_type": "execute_result"
    }
   ],
   "source": [
    "mixed_list[1::2]"
   ]
  },
  {
   "cell_type": "code",
   "execution_count": 20,
   "metadata": {
    "ExecuteTime": {
     "end_time": "2021-01-23T13:45:25.175712Z",
     "start_time": "2021-01-23T13:45:25.172260Z"
    }
   },
   "outputs": [
    {
     "data": {
      "text/plain": [
       "['', (2+3j), 3.14, True, 'abab', 2, 1]"
      ]
     },
     "execution_count": 20,
     "metadata": {},
     "output_type": "execute_result"
    }
   ],
   "source": [
    "mixed_list[::-1]"
   ]
  },
  {
   "cell_type": "markdown",
   "metadata": {},
   "source": [
    "Slicing имеет несколько параметров:  [start:stop:step], где step - опциональный, но полезный. Например, он позволяет перевернуть список."
   ]
  },
  {
   "cell_type": "markdown",
   "metadata": {},
   "source": [
    "Помимо вышеуказанных операций, есть иные полезные операции над списками:"
   ]
  },
  {
   "cell_type": "code",
   "execution_count": null,
   "metadata": {},
   "outputs": [],
   "source": []
  },
  {
   "cell_type": "markdown",
   "metadata": {},
   "source": [
    "Append позволяет добавить в список элемент."
   ]
  },
  {
   "cell_type": "code",
   "execution_count": 22,
   "metadata": {
    "ExecuteTime": {
     "end_time": "2021-01-23T13:49:12.223906Z",
     "start_time": "2021-01-23T13:49:12.220845Z"
    }
   },
   "outputs": [],
   "source": [
    "mixed_list.append(1000)"
   ]
  },
  {
   "cell_type": "code",
   "execution_count": 23,
   "metadata": {
    "ExecuteTime": {
     "end_time": "2021-01-23T13:49:16.740735Z",
     "start_time": "2021-01-23T13:49:16.736527Z"
    }
   },
   "outputs": [
    {
     "data": {
      "text/plain": [
       "[1, 2, 'abab', True, 3.14, (2+3j), '', 1000]"
      ]
     },
     "execution_count": 23,
     "metadata": {},
     "output_type": "execute_result"
    }
   ],
   "source": [
    "mixed_list"
   ]
  },
  {
   "cell_type": "markdown",
   "metadata": {
    "ExecuteTime": {
     "end_time": "2020-12-07T13:11:53.950989Z",
     "start_time": "2020-12-07T13:11:53.940396Z"
    }
   },
   "source": [
    "Extend - позволяет расширить список слиянием с другим."
   ]
  },
  {
   "cell_type": "code",
   "execution_count": 24,
   "metadata": {
    "ExecuteTime": {
     "end_time": "2021-01-23T13:49:46.008932Z",
     "start_time": "2021-01-23T13:49:46.006906Z"
    }
   },
   "outputs": [],
   "source": [
    "mixed_list.append([1000, 1])"
   ]
  },
  {
   "cell_type": "code",
   "execution_count": 25,
   "metadata": {
    "ExecuteTime": {
     "end_time": "2021-01-23T13:49:49.134422Z",
     "start_time": "2021-01-23T13:49:49.130644Z"
    }
   },
   "outputs": [
    {
     "data": {
      "text/plain": [
       "[1, 2, 'abab', True, 3.14, (2+3j), '', 1000, [1000, 1]]"
      ]
     },
     "execution_count": 25,
     "metadata": {},
     "output_type": "execute_result"
    }
   ],
   "source": [
    "mixed_list"
   ]
  },
  {
   "cell_type": "markdown",
   "metadata": {},
   "source": [
    "В той же записи append вставит дополнительный список как отдельный элемент:"
   ]
  },
  {
   "cell_type": "code",
   "execution_count": 26,
   "metadata": {
    "ExecuteTime": {
     "end_time": "2021-01-23T13:50:16.575408Z",
     "start_time": "2021-01-23T13:50:16.573515Z"
    }
   },
   "outputs": [],
   "source": [
    "mixed_list.extend([1000, 1])"
   ]
  },
  {
   "cell_type": "code",
   "execution_count": 27,
   "metadata": {
    "ExecuteTime": {
     "end_time": "2021-01-23T13:50:19.398754Z",
     "start_time": "2021-01-23T13:50:19.393160Z"
    }
   },
   "outputs": [
    {
     "data": {
      "text/plain": [
       "[1, 2, 'abab', True, 3.14, (2+3j), '', 1000, [1000, 1], 1000, 1]"
      ]
     },
     "execution_count": 27,
     "metadata": {},
     "output_type": "execute_result"
    }
   ],
   "source": [
    "mixed_list"
   ]
  },
  {
   "cell_type": "markdown",
   "metadata": {},
   "source": [
    "Также можно удалить элемент из списка:"
   ]
  },
  {
   "cell_type": "code",
   "execution_count": 28,
   "metadata": {
    "ExecuteTime": {
     "end_time": "2021-01-23T13:50:56.084783Z",
     "start_time": "2021-01-23T13:50:56.082670Z"
    }
   },
   "outputs": [],
   "source": [
    "mixed_list.remove(1000)"
   ]
  },
  {
   "cell_type": "code",
   "execution_count": 30,
   "metadata": {
    "ExecuteTime": {
     "end_time": "2021-01-23T13:51:12.379643Z",
     "start_time": "2021-01-23T13:51:12.377595Z"
    }
   },
   "outputs": [],
   "source": [
    "mixed_list.remove(1000)"
   ]
  },
  {
   "cell_type": "code",
   "execution_count": 31,
   "metadata": {
    "ExecuteTime": {
     "end_time": "2021-01-23T13:51:14.816304Z",
     "start_time": "2021-01-23T13:51:14.812420Z"
    }
   },
   "outputs": [
    {
     "data": {
      "text/plain": [
       "[1, 2, 'abab', True, 3.14, (2+3j), '', [1000, 1], 1]"
      ]
     },
     "execution_count": 31,
     "metadata": {},
     "output_type": "execute_result"
    }
   ],
   "source": [
    "mixed_list"
   ]
  },
  {
   "cell_type": "markdown",
   "metadata": {},
   "source": [
    "Удаление можно провести по индексу:"
   ]
  },
  {
   "cell_type": "code",
   "execution_count": 32,
   "metadata": {
    "ExecuteTime": {
     "end_time": "2021-01-23T13:52:20.518101Z",
     "start_time": "2021-01-23T13:52:20.514760Z"
    }
   },
   "outputs": [
    {
     "data": {
      "text/plain": [
       "'abab'"
      ]
     },
     "execution_count": 32,
     "metadata": {},
     "output_type": "execute_result"
    }
   ],
   "source": [
    "mixed_list.pop(2)"
   ]
  },
  {
   "cell_type": "code",
   "execution_count": 33,
   "metadata": {
    "ExecuteTime": {
     "end_time": "2021-01-23T13:52:23.815624Z",
     "start_time": "2021-01-23T13:52:23.810832Z"
    }
   },
   "outputs": [
    {
     "data": {
      "text/plain": [
       "[1, 2, True, 3.14, (2+3j), '', [1000, 1], 1]"
      ]
     },
     "execution_count": 33,
     "metadata": {},
     "output_type": "execute_result"
    }
   ],
   "source": [
    "mixed_list"
   ]
  },
  {
   "cell_type": "markdown",
   "metadata": {},
   "source": [
    "Вставку также можно проводить по индексу:"
   ]
  },
  {
   "cell_type": "code",
   "execution_count": 34,
   "metadata": {
    "ExecuteTime": {
     "end_time": "2021-01-23T13:52:52.382212Z",
     "start_time": "2021-01-23T13:52:52.380089Z"
    }
   },
   "outputs": [],
   "source": [
    "mixed_list.insert(2, 'lolo')"
   ]
  },
  {
   "cell_type": "code",
   "execution_count": 35,
   "metadata": {
    "ExecuteTime": {
     "end_time": "2021-01-23T13:52:55.123138Z",
     "start_time": "2021-01-23T13:52:55.118453Z"
    }
   },
   "outputs": [
    {
     "data": {
      "text/plain": [
       "[1, 2, 'lolo', True, 3.14, (2+3j), '', [1000, 1], 1]"
      ]
     },
     "execution_count": 35,
     "metadata": {},
     "output_type": "execute_result"
    }
   ],
   "source": [
    "mixed_list"
   ]
  },
  {
   "cell_type": "markdown",
   "metadata": {},
   "source": [
    "Поиск по списку можно проводить с помощью функции index (выдает первое вхождение элемента)."
   ]
  },
  {
   "cell_type": "code",
   "execution_count": 36,
   "metadata": {
    "ExecuteTime": {
     "end_time": "2021-01-23T13:53:28.745147Z",
     "start_time": "2021-01-23T13:53:28.741820Z"
    }
   },
   "outputs": [
    {
     "data": {
      "text/plain": [
       "2"
      ]
     },
     "execution_count": 36,
     "metadata": {},
     "output_type": "execute_result"
    }
   ],
   "source": [
    "mixed_list.index('lolo')"
   ]
  },
  {
   "cell_type": "code",
   "execution_count": 37,
   "metadata": {
    "ExecuteTime": {
     "end_time": "2021-01-23T13:53:41.867767Z",
     "start_time": "2021-01-23T13:53:41.863811Z"
    }
   },
   "outputs": [
    {
     "data": {
      "text/plain": [
       "'lolo'"
      ]
     },
     "execution_count": 37,
     "metadata": {},
     "output_type": "execute_result"
    }
   ],
   "source": [
    "mixed_list[2]"
   ]
  },
  {
   "cell_type": "markdown",
   "metadata": {},
   "source": [
    "### List comprehension"
   ]
  },
  {
   "cell_type": "markdown",
   "metadata": {},
   "source": [
    "Полезным подходом для создания списка является list comprehension. Им можно как задавать список, так и изменять его.\n",
    "\n",
    "Создадим список из целых чисел от 0 до 9:"
   ]
  },
  {
   "cell_type": "code",
   "execution_count": 38,
   "metadata": {
    "ExecuteTime": {
     "end_time": "2021-01-23T13:55:03.579013Z",
     "start_time": "2021-01-23T13:55:03.574152Z"
    }
   },
   "outputs": [],
   "source": [
    "numeric_list = [i for i in range(10)]"
   ]
  },
  {
   "cell_type": "code",
   "execution_count": 39,
   "metadata": {
    "ExecuteTime": {
     "end_time": "2021-01-23T13:55:06.085872Z",
     "start_time": "2021-01-23T13:55:06.082298Z"
    }
   },
   "outputs": [
    {
     "data": {
      "text/plain": [
       "[0, 1, 2, 3, 4, 5, 6, 7, 8, 9]"
      ]
     },
     "execution_count": 39,
     "metadata": {},
     "output_type": "execute_result"
    }
   ],
   "source": [
    "numeric_list"
   ]
  },
  {
   "cell_type": "markdown",
   "metadata": {},
   "source": [
    "Здесь несколько новых для нас операций. Во-первых, мы видим оператор итерирования \"for\", помимо этого мы видим генератор range().\n",
    "\n",
    "for позволяет нам итерироваться по объекту, который стоит после \"in\" и в подробностях будем знакомится с ним в занятии, посвященном циклам. \n",
    "\n",
    "Генератор - объект, который создает область, по которой можно итерироваться, однако создает её динамически в процессе итераций, что позволяет экономить память и не держать огромный объект в памяти компьютера. К примеру, у нас могла бы быть ситуация range(1e10), что не всегда допустимо хранить в памяти.\n",
    "\n",
    "List comprehension также может быть использован для изменения листа:"
   ]
  },
  {
   "cell_type": "code",
   "execution_count": 40,
   "metadata": {
    "ExecuteTime": {
     "end_time": "2021-01-23T13:57:00.602334Z",
     "start_time": "2021-01-23T13:57:00.592762Z"
    }
   },
   "outputs": [
    {
     "data": {
      "text/plain": [
       "[0, 1, 8, 81, 1024, 15625, 279936, 5764801, 134217728, 3486784401]"
      ]
     },
     "execution_count": 40,
     "metadata": {},
     "output_type": "execute_result"
    }
   ],
   "source": [
    "[i*i**i for i in numeric_list]"
   ]
  },
  {
   "cell_type": "markdown",
   "metadata": {},
   "source": [
    "Более того, с аргументом i можно проводить произвольные преобразования. Можно написать любую функцию, которая будет преобразовывать элементы и подать её в list comprehension выражение."
   ]
  },
  {
   "cell_type": "markdown",
   "metadata": {},
   "source": [
    "## Tuple"
   ]
  },
  {
   "cell_type": "markdown",
   "metadata": {},
   "source": [
    "Tuple во многом похож на list, однако, в отличие от списка является неизменяемым."
   ]
  },
  {
   "cell_type": "code",
   "execution_count": 41,
   "metadata": {
    "ExecuteTime": {
     "end_time": "2021-01-23T13:57:59.350949Z",
     "start_time": "2021-01-23T13:57:59.346916Z"
    }
   },
   "outputs": [
    {
     "data": {
      "text/plain": [
       "(1, 2)"
      ]
     },
     "execution_count": 41,
     "metadata": {},
     "output_type": "execute_result"
    }
   ],
   "source": [
    "1, 2"
   ]
  },
  {
   "cell_type": "code",
   "execution_count": 42,
   "metadata": {
    "ExecuteTime": {
     "end_time": "2021-01-23T13:58:25.102223Z",
     "start_time": "2021-01-23T13:58:25.099508Z"
    }
   },
   "outputs": [],
   "source": [
    "my_tuple = (1, 2, 'Add', True)"
   ]
  },
  {
   "cell_type": "markdown",
   "metadata": {},
   "source": [
    "К нему применимы схожие с листом операции, однако его невозможно изменить."
   ]
  },
  {
   "cell_type": "code",
   "execution_count": 43,
   "metadata": {
    "ExecuteTime": {
     "end_time": "2021-01-23T13:58:45.168140Z",
     "start_time": "2021-01-23T13:58:45.162987Z"
    }
   },
   "outputs": [
    {
     "data": {
      "text/plain": [
       "(True, 'Add', 2, 1)"
      ]
     },
     "execution_count": 43,
     "metadata": {},
     "output_type": "execute_result"
    }
   ],
   "source": [
    "my_tuple[::-1]"
   ]
  },
  {
   "cell_type": "markdown",
   "metadata": {},
   "source": [
    "По tuple можно итерироваться, но он неизменяемый, что часто бывает полезно при разработке."
   ]
  },
  {
   "cell_type": "markdown",
   "metadata": {},
   "source": [
    "## Dictionary"
   ]
  },
  {
   "cell_type": "markdown",
   "metadata": {},
   "source": [
    "Dictionary или словарь - тип данных, который позволяет хранить пары {key: value} - ключ - значение."
   ]
  },
  {
   "cell_type": "code",
   "execution_count": 44,
   "metadata": {
    "ExecuteTime": {
     "end_time": "2021-01-23T14:00:03.751930Z",
     "start_time": "2021-01-23T14:00:03.749952Z"
    }
   },
   "outputs": [],
   "source": [
    "my_dict = dict()"
   ]
  },
  {
   "cell_type": "code",
   "execution_count": 46,
   "metadata": {
    "ExecuteTime": {
     "end_time": "2021-01-23T14:00:26.855760Z",
     "start_time": "2021-01-23T14:00:26.852623Z"
    }
   },
   "outputs": [
    {
     "data": {
      "text/plain": [
       "{}"
      ]
     },
     "execution_count": 46,
     "metadata": {},
     "output_type": "execute_result"
    }
   ],
   "source": [
    "my_dict"
   ]
  },
  {
   "cell_type": "code",
   "execution_count": 45,
   "metadata": {
    "ExecuteTime": {
     "end_time": "2021-01-23T14:00:11.059781Z",
     "start_time": "2021-01-23T14:00:11.056528Z"
    }
   },
   "outputs": [
    {
     "data": {
      "text/plain": [
       "dict"
      ]
     },
     "execution_count": 45,
     "metadata": {},
     "output_type": "execute_result"
    }
   ],
   "source": [
    "type(my_dict)"
   ]
  },
  {
   "cell_type": "code",
   "execution_count": 47,
   "metadata": {
    "ExecuteTime": {
     "end_time": "2021-01-23T14:00:31.622720Z",
     "start_time": "2021-01-23T14:00:31.619782Z"
    }
   },
   "outputs": [],
   "source": [
    "my_dict = {}"
   ]
  },
  {
   "cell_type": "code",
   "execution_count": 49,
   "metadata": {
    "ExecuteTime": {
     "end_time": "2021-01-23T14:00:39.905115Z",
     "start_time": "2021-01-23T14:00:39.901876Z"
    }
   },
   "outputs": [
    {
     "data": {
      "text/plain": [
       "dict"
      ]
     },
     "execution_count": 49,
     "metadata": {},
     "output_type": "execute_result"
    }
   ],
   "source": [
    "type(my_dict)"
   ]
  },
  {
   "cell_type": "markdown",
   "metadata": {},
   "source": [
    "Ключ и значение могут быть различных типов. Использование словарей удобно для многих задач, в том числе, для хранения результатов моделей или других значений для разных объектов."
   ]
  },
  {
   "cell_type": "code",
   "execution_count": 50,
   "metadata": {
    "ExecuteTime": {
     "end_time": "2021-01-23T14:01:46.983298Z",
     "start_time": "2021-01-23T14:01:46.980520Z"
    }
   },
   "outputs": [],
   "source": [
    "my_dict = {'first': 2, 12 : 'abcab', True : 3 + 2j}"
   ]
  },
  {
   "cell_type": "code",
   "execution_count": 51,
   "metadata": {
    "ExecuteTime": {
     "end_time": "2021-01-23T14:01:50.217538Z",
     "start_time": "2021-01-23T14:01:50.212024Z"
    }
   },
   "outputs": [
    {
     "data": {
      "text/plain": [
       "{'first': 2, 12: 'abcab', True: (3+2j)}"
      ]
     },
     "execution_count": 51,
     "metadata": {},
     "output_type": "execute_result"
    }
   ],
   "source": [
    "my_dict"
   ]
  },
  {
   "cell_type": "markdown",
   "metadata": {},
   "source": [
    "Состав словаря можно запросить, вызывая функции keys() и values()."
   ]
  },
  {
   "cell_type": "code",
   "execution_count": 52,
   "metadata": {
    "ExecuteTime": {
     "end_time": "2021-01-23T14:02:20.852222Z",
     "start_time": "2021-01-23T14:02:20.848814Z"
    }
   },
   "outputs": [
    {
     "data": {
      "text/plain": [
       "dict_keys(['first', 12, True])"
      ]
     },
     "execution_count": 52,
     "metadata": {},
     "output_type": "execute_result"
    }
   ],
   "source": [
    "my_dict.keys()"
   ]
  },
  {
   "cell_type": "code",
   "execution_count": 53,
   "metadata": {
    "ExecuteTime": {
     "end_time": "2021-01-23T14:02:32.232210Z",
     "start_time": "2021-01-23T14:02:32.227474Z"
    }
   },
   "outputs": [
    {
     "data": {
      "text/plain": [
       "dict_values([2, 'abcab', (3+2j)])"
      ]
     },
     "execution_count": 53,
     "metadata": {},
     "output_type": "execute_result"
    }
   ],
   "source": [
    "my_dict.values()"
   ]
  },
  {
   "cell_type": "markdown",
   "metadata": {},
   "source": [
    "Также можно запросить множество элементов словаря:"
   ]
  },
  {
   "cell_type": "code",
   "execution_count": 54,
   "metadata": {
    "ExecuteTime": {
     "end_time": "2021-01-23T14:02:48.826187Z",
     "start_time": "2021-01-23T14:02:48.821515Z"
    }
   },
   "outputs": [
    {
     "data": {
      "text/plain": [
       "dict_items([('first', 2), (12, 'abcab'), (True, (3+2j))])"
      ]
     },
     "execution_count": 54,
     "metadata": {},
     "output_type": "execute_result"
    }
   ],
   "source": [
    "my_dict.items()"
   ]
  },
  {
   "cell_type": "markdown",
   "metadata": {},
   "source": [
    "Обновление словаря и обращение к элементам может выполняться по ключу:"
   ]
  },
  {
   "cell_type": "code",
   "execution_count": 58,
   "metadata": {
    "ExecuteTime": {
     "end_time": "2021-01-23T14:03:51.591347Z",
     "start_time": "2021-01-23T14:03:51.587400Z"
    }
   },
   "outputs": [
    {
     "data": {
      "text/plain": [
       "'abcab'"
      ]
     },
     "execution_count": 58,
     "metadata": {},
     "output_type": "execute_result"
    }
   ],
   "source": [
    "my_dict[12]"
   ]
  },
  {
   "cell_type": "code",
   "execution_count": 59,
   "metadata": {
    "ExecuteTime": {
     "end_time": "2021-01-23T14:04:17.499347Z",
     "start_time": "2021-01-23T14:04:17.497130Z"
    }
   },
   "outputs": [],
   "source": [
    "my_dict[1000] = 'Value'"
   ]
  },
  {
   "cell_type": "code",
   "execution_count": 60,
   "metadata": {
    "ExecuteTime": {
     "end_time": "2021-01-23T14:04:20.019173Z",
     "start_time": "2021-01-23T14:04:20.014677Z"
    }
   },
   "outputs": [
    {
     "data": {
      "text/plain": [
       "{'first': 2, 12: 'abcab', True: (3+2j), 1000: 'Value'}"
      ]
     },
     "execution_count": 60,
     "metadata": {},
     "output_type": "execute_result"
    }
   ],
   "source": [
    "my_dict"
   ]
  },
  {
   "cell_type": "markdown",
   "metadata": {},
   "source": [
    "Удаление элементов можно провести с помощью оператора del:"
   ]
  },
  {
   "cell_type": "code",
   "execution_count": 61,
   "metadata": {
    "ExecuteTime": {
     "end_time": "2021-01-23T14:04:41.286613Z",
     "start_time": "2021-01-23T14:04:41.281001Z"
    }
   },
   "outputs": [],
   "source": [
    "del my_dict[1000]"
   ]
  },
  {
   "cell_type": "code",
   "execution_count": 62,
   "metadata": {
    "ExecuteTime": {
     "end_time": "2021-01-23T14:04:44.296697Z",
     "start_time": "2021-01-23T14:04:44.293229Z"
    }
   },
   "outputs": [
    {
     "data": {
      "text/plain": [
       "{'first': 2, 12: 'abcab', True: (3+2j)}"
      ]
     },
     "execution_count": 62,
     "metadata": {},
     "output_type": "execute_result"
    }
   ],
   "source": [
    "my_dict"
   ]
  },
  {
   "cell_type": "markdown",
   "metadata": {
    "ExecuteTime": {
     "end_time": "2020-12-08T06:51:38.488849Z",
     "start_time": "2020-12-08T06:51:38.485634Z"
    }
   },
   "source": [
    "Для словарей также возможны операции dictionary comprehension:"
   ]
  },
  {
   "cell_type": "code",
   "execution_count": 63,
   "metadata": {
    "ExecuteTime": {
     "end_time": "2021-01-23T14:06:09.210172Z",
     "start_time": "2021-01-23T14:06:09.207284Z"
    }
   },
   "outputs": [],
   "source": [
    "reversed_dict = {j:i for (i,j) in my_dict.items()}"
   ]
  },
  {
   "cell_type": "code",
   "execution_count": 64,
   "metadata": {
    "ExecuteTime": {
     "end_time": "2021-01-23T14:06:13.400936Z",
     "start_time": "2021-01-23T14:06:13.397964Z"
    }
   },
   "outputs": [
    {
     "data": {
      "text/plain": [
       "{2: 'first', 'abcab': 12, (3+2j): True}"
      ]
     },
     "execution_count": 64,
     "metadata": {},
     "output_type": "execute_result"
    }
   ],
   "source": [
    "reversed_dict"
   ]
  },
  {
   "cell_type": "markdown",
   "metadata": {},
   "source": [
    "## Set "
   ]
  },
  {
   "cell_type": "markdown",
   "metadata": {},
   "source": [
    "Очередной тип данных - set - множество. Особенности множества в том, что оно содержит уникальные элементы."
   ]
  },
  {
   "cell_type": "code",
   "execution_count": 65,
   "metadata": {
    "ExecuteTime": {
     "end_time": "2021-01-23T14:06:54.529490Z",
     "start_time": "2021-01-23T14:06:54.527510Z"
    }
   },
   "outputs": [],
   "source": [
    "my_set = set()"
   ]
  },
  {
   "cell_type": "code",
   "execution_count": 66,
   "metadata": {
    "ExecuteTime": {
     "end_time": "2021-01-23T14:07:01.882938Z",
     "start_time": "2021-01-23T14:07:01.879228Z"
    }
   },
   "outputs": [
    {
     "data": {
      "text/plain": [
       "set"
      ]
     },
     "execution_count": 66,
     "metadata": {},
     "output_type": "execute_result"
    }
   ],
   "source": [
    "type(my_set)"
   ]
  },
  {
   "cell_type": "markdown",
   "metadata": {},
   "source": [
    "Также, множество задается фигурными скобками (не пустыми!) с содержащимися в ней элементами."
   ]
  },
  {
   "cell_type": "code",
   "execution_count": 67,
   "metadata": {
    "ExecuteTime": {
     "end_time": "2021-01-23T14:07:26.949243Z",
     "start_time": "2021-01-23T14:07:26.946394Z"
    }
   },
   "outputs": [],
   "source": [
    "my_set = {1, 2, 'element'}"
   ]
  },
  {
   "cell_type": "code",
   "execution_count": 68,
   "metadata": {
    "ExecuteTime": {
     "end_time": "2021-01-23T14:07:35.729379Z",
     "start_time": "2021-01-23T14:07:35.723958Z"
    }
   },
   "outputs": [
    {
     "data": {
      "text/plain": [
       "set"
      ]
     },
     "execution_count": 68,
     "metadata": {},
     "output_type": "execute_result"
    }
   ],
   "source": [
    "type(my_set)"
   ]
  },
  {
   "cell_type": "code",
   "execution_count": 69,
   "metadata": {
    "ExecuteTime": {
     "end_time": "2021-01-23T14:07:43.688846Z",
     "start_time": "2021-01-23T14:07:43.685120Z"
    }
   },
   "outputs": [
    {
     "data": {
      "text/plain": [
       "{1, 2, 'element'}"
      ]
     },
     "execution_count": 69,
     "metadata": {},
     "output_type": "execute_result"
    }
   ],
   "source": [
    "my_set"
   ]
  },
  {
   "cell_type": "markdown",
   "metadata": {},
   "source": [
    "Оно также может быть задано преобразованием списка или tuple."
   ]
  },
  {
   "cell_type": "code",
   "execution_count": 73,
   "metadata": {
    "ExecuteTime": {
     "end_time": "2021-01-23T14:08:38.007080Z",
     "start_time": "2021-01-23T14:08:38.002728Z"
    }
   },
   "outputs": [
    {
     "data": {
      "text/plain": [
       "(1, 2, 'Add', True)"
      ]
     },
     "execution_count": 73,
     "metadata": {},
     "output_type": "execute_result"
    }
   ],
   "source": [
    "my_tuple"
   ]
  },
  {
   "cell_type": "code",
   "execution_count": 72,
   "metadata": {
    "ExecuteTime": {
     "end_time": "2021-01-23T14:08:27.435311Z",
     "start_time": "2021-01-23T14:08:27.428902Z"
    }
   },
   "outputs": [
    {
     "data": {
      "text/plain": [
       "{1, 2, 'Add'}"
      ]
     },
     "execution_count": 72,
     "metadata": {},
     "output_type": "execute_result"
    }
   ],
   "source": [
    "set(my_tuple)"
   ]
  },
  {
   "cell_type": "code",
   "execution_count": 75,
   "metadata": {
    "ExecuteTime": {
     "end_time": "2021-01-23T14:09:26.622194Z",
     "start_time": "2021-01-23T14:09:26.616504Z"
    }
   },
   "outputs": [
    {
     "data": {
      "text/plain": [
       "[1, 2, 'lolo', True, 3.14, (2+3j), '', [1000, 1], 1]"
      ]
     },
     "execution_count": 75,
     "metadata": {},
     "output_type": "execute_result"
    }
   ],
   "source": [
    "mixed_list"
   ]
  },
  {
   "cell_type": "code",
   "execution_count": 76,
   "metadata": {
    "ExecuteTime": {
     "end_time": "2021-01-23T14:09:38.624898Z",
     "start_time": "2021-01-23T14:09:38.620859Z"
    }
   },
   "outputs": [
    {
     "data": {
      "text/plain": [
       "{'', (2+3j), 1, 2, 3.14, 'lolo'}"
      ]
     },
     "execution_count": 76,
     "metadata": {},
     "output_type": "execute_result"
    }
   ],
   "source": [
    "set(mixed_list[:-2])"
   ]
  },
  {
   "cell_type": "code",
   "execution_count": 78,
   "metadata": {
    "ExecuteTime": {
     "end_time": "2021-01-23T14:10:36.815062Z",
     "start_time": "2021-01-23T14:10:36.812132Z"
    }
   },
   "outputs": [],
   "source": [
    "my_set = set(mixed_list[:-2])"
   ]
  },
  {
   "cell_type": "code",
   "execution_count": 77,
   "metadata": {
    "ExecuteTime": {
     "end_time": "2021-01-23T14:10:17.818972Z",
     "start_time": "2021-01-23T14:10:17.816544Z"
    }
   },
   "outputs": [],
   "source": [
    "my_set2 = set([1, False, 432])"
   ]
  },
  {
   "cell_type": "markdown",
   "metadata": {},
   "source": [
    "Для типа set применимы стандартные операции над множествами - пересечение, объединение, дополнение, симметричная разность:"
   ]
  },
  {
   "cell_type": "markdown",
   "metadata": {},
   "source": [
    "Объединение:\n",
    "![union](union.png)\n",
    "Пересечение:\n",
    "![intersect](intersect.png)\n",
    "Дополнение:\n",
    "![complement](complement.png)\n",
    "Симметричная разность:\n",
    "![symmetric difference](symmetr_diff.png)"
   ]
  },
  {
   "cell_type": "code",
   "execution_count": 79,
   "metadata": {
    "ExecuteTime": {
     "end_time": "2021-01-23T14:11:05.903490Z",
     "start_time": "2021-01-23T14:11:05.899998Z"
    }
   },
   "outputs": [
    {
     "data": {
      "text/plain": [
       "{'', (2+3j), 1, 2, 3.14, 'lolo'}"
      ]
     },
     "execution_count": 79,
     "metadata": {},
     "output_type": "execute_result"
    }
   ],
   "source": [
    "my_set"
   ]
  },
  {
   "cell_type": "code",
   "execution_count": 80,
   "metadata": {
    "ExecuteTime": {
     "end_time": "2021-01-23T14:11:08.924392Z",
     "start_time": "2021-01-23T14:11:08.919858Z"
    }
   },
   "outputs": [
    {
     "data": {
      "text/plain": [
       "{False, 1, 432}"
      ]
     },
     "execution_count": 80,
     "metadata": {},
     "output_type": "execute_result"
    }
   ],
   "source": [
    "my_set2"
   ]
  },
  {
   "cell_type": "code",
   "execution_count": 81,
   "metadata": {
    "ExecuteTime": {
     "end_time": "2021-01-23T14:11:33.757705Z",
     "start_time": "2021-01-23T14:11:33.754002Z"
    }
   },
   "outputs": [
    {
     "data": {
      "text/plain": [
       "{1}"
      ]
     },
     "execution_count": 81,
     "metadata": {},
     "output_type": "execute_result"
    }
   ],
   "source": [
    "my_set.intersection(my_set2)"
   ]
  },
  {
   "cell_type": "code",
   "execution_count": 82,
   "metadata": {
    "ExecuteTime": {
     "end_time": "2021-01-23T14:11:55.601317Z",
     "start_time": "2021-01-23T14:11:55.597889Z"
    }
   },
   "outputs": [
    {
     "data": {
      "text/plain": [
       "{'', (2+3j), 1, 2, 3.14, 432, False, 'lolo'}"
      ]
     },
     "execution_count": 82,
     "metadata": {},
     "output_type": "execute_result"
    }
   ],
   "source": [
    "my_set.union(my_set2)"
   ]
  },
  {
   "cell_type": "code",
   "execution_count": 83,
   "metadata": {
    "ExecuteTime": {
     "end_time": "2021-01-23T14:12:37.907514Z",
     "start_time": "2021-01-23T14:12:37.903226Z"
    }
   },
   "outputs": [
    {
     "data": {
      "text/plain": [
       "{'', (2+3j), 2, 3.14, 'lolo'}"
      ]
     },
     "execution_count": 83,
     "metadata": {},
     "output_type": "execute_result"
    }
   ],
   "source": [
    "my_set.difference(my_set2)"
   ]
  },
  {
   "cell_type": "code",
   "execution_count": 84,
   "metadata": {
    "ExecuteTime": {
     "end_time": "2021-01-23T14:13:16.608138Z",
     "start_time": "2021-01-23T14:13:16.604235Z"
    }
   },
   "outputs": [
    {
     "data": {
      "text/plain": [
       "{'', (2+3j), 2, 3.14, 432, False, 'lolo'}"
      ]
     },
     "execution_count": 84,
     "metadata": {},
     "output_type": "execute_result"
    }
   ],
   "source": [
    "my_set.symmetric_difference(my_set2)"
   ]
  },
  {
   "cell_type": "code",
   "execution_count": null,
   "metadata": {},
   "outputs": [],
   "source": []
  }
 ],
 "metadata": {
  "kernelspec": {
   "display_name": "Python 3",
   "language": "python",
   "name": "python3"
  },
  "language_info": {
   "codemirror_mode": {
    "name": "ipython",
    "version": 3
   },
   "file_extension": ".py",
   "mimetype": "text/x-python",
   "name": "python",
   "nbconvert_exporter": "python",
   "pygments_lexer": "ipython3",
   "version": "3.7.8"
  },
  "latex_envs": {
   "LaTeX_envs_menu_present": true,
   "autoclose": false,
   "autocomplete": true,
   "bibliofile": "biblio.bib",
   "cite_by": "apalike",
   "current_citInitial": 1,
   "eqLabelWithNumbers": true,
   "eqNumInitial": 1,
   "hotkeys": {
    "equation": "Ctrl-E",
    "itemize": "Ctrl-I"
   },
   "labels_anchors": false,
   "latex_user_defs": false,
   "report_style_numbering": false,
   "user_envs_cfg": false
  },
  "toc": {
   "base_numbering": 1,
   "nav_menu": {},
   "number_sections": false,
   "sideBar": false,
   "skip_h1_title": false,
   "title_cell": "Table of Contents",
   "title_sidebar": "Contents",
   "toc_cell": false,
   "toc_position": {},
   "toc_section_display": false,
   "toc_window_display": false
  },
  "varInspector": {
   "cols": {
    "lenName": 16,
    "lenType": 16,
    "lenVar": 40
   },
   "kernels_config": {
    "python": {
     "delete_cmd_postfix": "",
     "delete_cmd_prefix": "del ",
     "library": "var_list.py",
     "varRefreshCmd": "print(var_dic_list())"
    },
    "r": {
     "delete_cmd_postfix": ") ",
     "delete_cmd_prefix": "rm(",
     "library": "var_list.r",
     "varRefreshCmd": "cat(var_dic_list()) "
    }
   },
   "types_to_exclude": [
    "module",
    "function",
    "builtin_function_or_method",
    "instance",
    "_Feature"
   ],
   "window_display": false
  }
 },
 "nbformat": 4,
 "nbformat_minor": 4
}
