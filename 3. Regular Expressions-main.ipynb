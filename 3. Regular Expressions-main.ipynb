{
 "cells": [
  {
   "cell_type": "markdown",
   "metadata": {},
   "source": [
    "# Регулярные выражения "
   ]
  },
  {
   "cell_type": "markdown",
   "metadata": {},
   "source": [
    "Регулярные выражения применяются для обработки строк. \n",
    "\n",
    "Часто требуется почистить текст от знаков препинания, либо взять конкретные символы, найти символы, или ограничить строку. Рассмотрим разные кейсы применения регулярных выражений."
   ]
  },
  {
   "cell_type": "markdown",
   "metadata": {},
   "source": [
    "Как мы помним из занятия о строках, в Python существуют простейшие функции для их обработки. К примеру, split. Регулярные выражения позволяют расширить его функционал."
   ]
  },
  {
   "cell_type": "markdown",
   "metadata": {},
   "source": [
    "Во-первых, потребуется импортировать библиотеку, позволяющую работать с регулярными выражениями."
   ]
  },
  {
   "cell_type": "code",
   "execution_count": 1,
   "metadata": {
    "ExecuteTime": {
     "end_time": "2021-01-23T12:44:24.419242Z",
     "start_time": "2021-01-23T12:44:24.417001Z"
    }
   },
   "outputs": [],
   "source": [
    "import re"
   ]
  },
  {
   "cell_type": "code",
   "execution_count": 2,
   "metadata": {
    "ExecuteTime": {
     "end_time": "2021-01-23T12:45:05.580067Z",
     "start_time": "2021-01-23T12:45:05.577051Z"
    }
   },
   "outputs": [],
   "source": [
    "our_string = 'Hello, I would like to have a cup of tea. Give it to me, please!'"
   ]
  },
  {
   "cell_type": "markdown",
   "metadata": {},
   "source": [
    "Как мы помним, split() позволяет разделить строку по какому-либо символу. Однако, что если мы хотим разделить строку по всем возможным знакам препинания?"
   ]
  },
  {
   "cell_type": "code",
   "execution_count": 3,
   "metadata": {
    "ExecuteTime": {
     "end_time": "2021-01-23T12:45:16.375462Z",
     "start_time": "2021-01-23T12:45:16.365366Z"
    }
   },
   "outputs": [
    {
     "data": {
      "text/plain": [
       "['Hello,',\n",
       " 'I',\n",
       " 'would',\n",
       " 'like',\n",
       " 'to',\n",
       " 'have',\n",
       " 'a',\n",
       " 'cup',\n",
       " 'of',\n",
       " 'tea.',\n",
       " 'Give',\n",
       " 'it',\n",
       " 'to',\n",
       " 'me,',\n",
       " 'please!']"
      ]
     },
     "execution_count": 3,
     "metadata": {},
     "output_type": "execute_result"
    }
   ],
   "source": [
    "our_string.split()"
   ]
  },
  {
   "cell_type": "code",
   "execution_count": 4,
   "metadata": {
    "ExecuteTime": {
     "end_time": "2021-01-23T12:47:14.248858Z",
     "start_time": "2021-01-23T12:47:14.243882Z"
    }
   },
   "outputs": [
    {
     "data": {
      "text/plain": [
       "['Hello',\n",
       " '',\n",
       " 'I',\n",
       " 'would',\n",
       " 'like',\n",
       " 'to',\n",
       " 'have',\n",
       " 'a',\n",
       " 'cup',\n",
       " 'of',\n",
       " 'tea',\n",
       " '',\n",
       " 'Give',\n",
       " 'it',\n",
       " 'to',\n",
       " 'me',\n",
       " '',\n",
       " 'please!']"
      ]
     },
     "execution_count": 4,
     "metadata": {},
     "output_type": "execute_result"
    }
   ],
   "source": [
    "re.split('[\\s.,]', our_string)"
   ]
  },
  {
   "cell_type": "markdown",
   "metadata": {},
   "source": [
    "Вы видите, что функциональность re гораздо выше, чем встроенных методов, но освоение языка регулярных выражений требует некоторой практики."
   ]
  },
  {
   "cell_type": "markdown",
   "metadata": {
    "ExecuteTime": {
     "end_time": "2020-12-07T05:56:54.408519Z",
     "start_time": "2020-12-07T05:56:54.405019Z"
    }
   },
   "source": [
    "Вначале давайте рассмотрим основные функции re, а затем погрузимся в язык регулярных выражений."
   ]
  },
  {
   "cell_type": "markdown",
   "metadata": {},
   "source": [
    "## Основные функции re"
   ]
  },
  {
   "cell_type": "markdown",
   "metadata": {},
   "source": [
    "Во-первых, если вы планируете часто использовать тот или иной паттерн регулярного выражения, полезно его занести в отдельную переменную. Для этого есть функция compile():"
   ]
  },
  {
   "cell_type": "code",
   "execution_count": 5,
   "metadata": {
    "ExecuteTime": {
     "end_time": "2021-01-23T12:48:40.400160Z",
     "start_time": "2021-01-23T12:48:40.397380Z"
    }
   },
   "outputs": [],
   "source": [
    "my_regexp = re.compile('[0-9]+')"
   ]
  },
  {
   "cell_type": "code",
   "execution_count": 6,
   "metadata": {
    "ExecuteTime": {
     "end_time": "2021-01-23T12:49:16.953120Z",
     "start_time": "2021-01-23T12:49:16.950896Z"
    }
   },
   "outputs": [],
   "source": [
    "second_sentence = '10 of October, 1932 is my date of birth.'"
   ]
  },
  {
   "cell_type": "markdown",
   "metadata": {},
   "source": [
    "Данное регулярное выражение выделяет числовые последовательности из строки."
   ]
  },
  {
   "cell_type": "code",
   "execution_count": 7,
   "metadata": {
    "ExecuteTime": {
     "end_time": "2021-01-23T12:49:54.207310Z",
     "start_time": "2021-01-23T12:49:54.201726Z"
    }
   },
   "outputs": [
    {
     "data": {
      "text/plain": [
       "['10', '1932']"
      ]
     },
     "execution_count": 7,
     "metadata": {},
     "output_type": "execute_result"
    }
   ],
   "source": [
    "re.findall(my_regexp, second_sentence)"
   ]
  },
  {
   "cell_type": "markdown",
   "metadata": {},
   "source": [
    "Для начала, попробуем найти вхождения чисел в строке:"
   ]
  },
  {
   "cell_type": "markdown",
   "metadata": {},
   "source": [
    "Часто возникает задача выделить даты из текста и привести их к унифицированному виду."
   ]
  },
  {
   "cell_type": "code",
   "execution_count": 8,
   "metadata": {
    "ExecuteTime": {
     "end_time": "2021-01-23T12:50:38.610219Z",
     "start_time": "2021-01-23T12:50:38.606174Z"
    }
   },
   "outputs": [],
   "source": [
    "our_string2 = '01.09.2001 was a good day. Or it was 09.01.2001'"
   ]
  },
  {
   "cell_type": "code",
   "execution_count": 9,
   "metadata": {
    "ExecuteTime": {
     "end_time": "2021-01-23T12:52:01.787811Z",
     "start_time": "2021-01-23T12:52:01.785733Z"
    }
   },
   "outputs": [],
   "source": [
    "my_regexp2 = re.compile('(\\d+).(\\d+).(\\d+)')"
   ]
  },
  {
   "cell_type": "code",
   "execution_count": 10,
   "metadata": {
    "ExecuteTime": {
     "end_time": "2021-01-23T12:52:17.292562Z",
     "start_time": "2021-01-23T12:52:17.288010Z"
    }
   },
   "outputs": [
    {
     "data": {
      "text/plain": [
       "[('01', '09', '2001'), ('09', '01', '2001')]"
      ]
     },
     "execution_count": 10,
     "metadata": {},
     "output_type": "execute_result"
    }
   ],
   "source": [
    "re.findall(my_regexp2, our_string2)"
   ]
  },
  {
   "cell_type": "markdown",
   "metadata": {},
   "source": [
    "Существует также функция match, которая позволяет найти вхождение паттерна в начале строки и возвращает объект match, с которым можно работать"
   ]
  },
  {
   "cell_type": "code",
   "execution_count": 11,
   "metadata": {
    "ExecuteTime": {
     "end_time": "2021-01-23T12:53:27.631622Z",
     "start_time": "2021-01-23T12:53:27.629483Z"
    }
   },
   "outputs": [],
   "source": [
    "match_obj = re.match(my_regexp2, our_string2)"
   ]
  },
  {
   "cell_type": "code",
   "execution_count": 13,
   "metadata": {
    "ExecuteTime": {
     "end_time": "2021-01-23T12:54:00.994990Z",
     "start_time": "2021-01-23T12:54:00.992129Z"
    }
   },
   "outputs": [
    {
     "data": {
      "text/plain": [
       "('01', '09', '2001')"
      ]
     },
     "execution_count": 13,
     "metadata": {},
     "output_type": "execute_result"
    }
   ],
   "source": [
    "match_obj.groups()"
   ]
  },
  {
   "cell_type": "code",
   "execution_count": 14,
   "metadata": {
    "ExecuteTime": {
     "end_time": "2021-01-23T12:54:27.138396Z",
     "start_time": "2021-01-23T12:54:27.133117Z"
    }
   },
   "outputs": [
    {
     "data": {
      "text/plain": [
       "'01.09.2001'"
      ]
     },
     "execution_count": 14,
     "metadata": {},
     "output_type": "execute_result"
    }
   ],
   "source": [
    "match_obj.group(0)"
   ]
  },
  {
   "cell_type": "code",
   "execution_count": 15,
   "metadata": {
    "ExecuteTime": {
     "end_time": "2021-01-23T12:54:56.277473Z",
     "start_time": "2021-01-23T12:54:56.267859Z"
    }
   },
   "outputs": [
    {
     "data": {
      "text/plain": [
       "('01', '09', '2001')"
      ]
     },
     "execution_count": 15,
     "metadata": {},
     "output_type": "execute_result"
    }
   ],
   "source": [
    "match_obj.group(1), match_obj.group(2), match_obj.group(3)"
   ]
  },
  {
   "cell_type": "markdown",
   "metadata": {},
   "source": [
    "group() возвращает подгруппы из объекта match. Это полезно, если как в нашем примере вы имеете дату и, например, хотите извлечь только год."
   ]
  },
  {
   "cell_type": "markdown",
   "metadata": {},
   "source": [
    "search() расширяет возможности match и находит просто первое вхождение паттерна, не ориентируясь на начало строки."
   ]
  },
  {
   "cell_type": "code",
   "execution_count": 16,
   "metadata": {
    "ExecuteTime": {
     "end_time": "2021-01-23T12:55:47.538768Z",
     "start_time": "2021-01-23T12:55:47.535179Z"
    }
   },
   "outputs": [],
   "source": [
    "our_string2 = 'The '+our_string2"
   ]
  },
  {
   "cell_type": "code",
   "execution_count": 17,
   "metadata": {
    "ExecuteTime": {
     "end_time": "2021-01-23T12:56:02.933736Z",
     "start_time": "2021-01-23T12:56:02.931535Z"
    }
   },
   "outputs": [],
   "source": [
    "re.match(my_regexp2, our_string2)"
   ]
  },
  {
   "cell_type": "code",
   "execution_count": 18,
   "metadata": {
    "ExecuteTime": {
     "end_time": "2021-01-23T12:56:15.939905Z",
     "start_time": "2021-01-23T12:56:15.935333Z"
    }
   },
   "outputs": [
    {
     "data": {
      "text/plain": [
       "<re.Match object; span=(4, 14), match='01.09.2001'>"
      ]
     },
     "execution_count": 18,
     "metadata": {},
     "output_type": "execute_result"
    }
   ],
   "source": [
    "re.search(my_regexp2, our_string2)"
   ]
  },
  {
   "cell_type": "markdown",
   "metadata": {},
   "source": [
    "И одной из наиболее полезных функций регулярных выражений является поиск и замена паттерна на заданную строку."
   ]
  },
  {
   "cell_type": "code",
   "execution_count": 20,
   "metadata": {
    "ExecuteTime": {
     "end_time": "2021-01-23T12:57:44.957474Z",
     "start_time": "2021-01-23T12:57:44.953366Z"
    }
   },
   "outputs": [
    {
     "data": {
      "text/plain": [
       "'The 01.09.2001 was a good day. Or it was 09.01.2001'"
      ]
     },
     "execution_count": 20,
     "metadata": {},
     "output_type": "execute_result"
    }
   ],
   "source": [
    "our_string2"
   ]
  },
  {
   "cell_type": "code",
   "execution_count": 19,
   "metadata": {
    "ExecuteTime": {
     "end_time": "2021-01-23T12:57:36.871617Z",
     "start_time": "2021-01-23T12:57:36.867012Z"
    }
   },
   "outputs": [
    {
     "data": {
      "text/plain": [
       "'The Date was a good day. Or it was Date'"
      ]
     },
     "execution_count": 19,
     "metadata": {},
     "output_type": "execute_result"
    }
   ],
   "source": [
    "re.sub(my_regexp2, 'Date', our_string2)"
   ]
  },
  {
   "cell_type": "markdown",
   "metadata": {
    "ExecuteTime": {
     "end_time": "2020-12-07T06:44:21.424457Z",
     "start_time": "2020-12-07T06:44:21.420146Z"
    }
   },
   "source": [
    "Эта функция также позволяет почистить текст от ненужных символов или паттернов:"
   ]
  },
  {
   "cell_type": "markdown",
   "metadata": {},
   "source": [
    "Этих функций хватит для большинства необходимых операций над регулярными выражениями.\n",
    "\n",
    "Перейдем к языку регулярных выражений."
   ]
  },
  {
   "cell_type": "markdown",
   "metadata": {},
   "source": [
    "## Язык регулярных выражений"
   ]
  },
  {
   "cell_type": "markdown",
   "metadata": {},
   "source": [
    "Специальные символы:\n",
    "* ^ - Начало строки\n",
    "* $ - Конец строки\n",
    "* . - Любой символ, кроме переноса строки\n",
    "* \\* - 0 и большее повторение регулярного выражения\n",
    "* \\+ - 1 и большее повторение регулярного выражения\n",
    "* ? - 0 или 1 повторение регулярного выражения\n",
    "* {n} - n повторений регулярного выражения\n",
    "* \\ - экранирование спецсимвола\n",
    "* [] - набор символов\n",
    "* | - логическое \"или\"\n",
    "* () - отделяет группу, содержит регулярное выражение\n",
    "* \\number - обозначает содержимое группы под номером number\n",
    "* \\d - обозначает цифру\n",
    "* \\D - обозначает любой символ кроме цифры\n",
    "* \\s - обозначает unicode пробел (все символы включая [ \\t\\n\\r\\f\\v]) \n",
    "* \\S - любой символ кроме unicode пробела\n",
    "* \\w - обозначает слово в unicode. иначе может быть записано как [^a-zA-Z0-9_]\n",
    "* \\W - все кроме unicode слов\n"
   ]
  },
  {
   "cell_type": "code",
   "execution_count": 21,
   "metadata": {
    "ExecuteTime": {
     "end_time": "2021-01-23T13:02:16.976922Z",
     "start_time": "2021-01-23T13:02:16.971568Z"
    }
   },
   "outputs": [],
   "source": [
    "string2 = 'London is the capital of Great Britain. London was founded in AD 43. Today is 07.12.2020 01:15 P.M., or 2020-12-07 13:15?'"
   ]
  },
  {
   "cell_type": "code",
   "execution_count": 22,
   "metadata": {
    "ExecuteTime": {
     "end_time": "2021-01-23T13:05:25.911521Z",
     "start_time": "2021-01-23T13:05:25.905261Z"
    }
   },
   "outputs": [
    {
     "data": {
      "text/plain": [
       "[('07.12.2020', ''), ('', '2020-12-07')]"
      ]
     },
     "execution_count": 22,
     "metadata": {},
     "output_type": "execute_result"
    }
   ],
   "source": [
    "re.findall('(\\d.?\\.\\d.?\\.\\d+)|(\\d+.?-\\d.?-\\d.)', string2)"
   ]
  },
  {
   "cell_type": "markdown",
   "metadata": {},
   "source": [
    "Как видим, данные регулярные выражения дают одинаковые результаты на данном примере, однако, видно, что они неэквивалентны, и второе более строгое. Более того, если мы захотим делать все более строго, то нам придется наложить ограничения и на диапазоны дат.\n",
    "\n",
    "В качестве упражнения, попробуйте сделать выделение дат в формате yyyy-mm-dd с учетом диапазонов дней и месяцев."
   ]
  },
  {
   "cell_type": "markdown",
   "metadata": {},
   "source": [
    "Попробуем выделить именованные сущности из текста (названия городов, стран, имена). Используем упрощенное правило - подобное слово должно начинаться с большой буквы."
   ]
  },
  {
   "cell_type": "code",
   "execution_count": 23,
   "metadata": {
    "ExecuteTime": {
     "end_time": "2021-01-23T13:06:40.375803Z",
     "start_time": "2021-01-23T13:06:40.371781Z"
    }
   },
   "outputs": [
    {
     "data": {
      "text/plain": [
       "['London', 'Great', 'Britain', 'London', 'Today']"
      ]
     },
     "execution_count": 23,
     "metadata": {},
     "output_type": "execute_result"
    }
   ],
   "source": [
    "re.findall('[A-Z][a-z]+', string2)"
   ]
  },
  {
   "cell_type": "markdown",
   "metadata": {},
   "source": [
    "Это уже почти готовый список. Дальнейшие доработки должны опираться на понимание сути текста. Здесь мы видим, что в список попало лишнее слово Today. Однако, не все так просто - здесь нужен индивидуальный подход к каждому тексту. Например, может оказаться , что это название кафе."
   ]
  },
  {
   "cell_type": "markdown",
   "metadata": {},
   "source": [
    "Также мы можем хотеть разбить текст на предложения. Очевидно str.split() тут не подойдет, так как даты у нас распадутся в случае сплита по разделителю."
   ]
  },
  {
   "cell_type": "code",
   "execution_count": 24,
   "metadata": {
    "ExecuteTime": {
     "end_time": "2021-01-23T13:08:27.700066Z",
     "start_time": "2021-01-23T13:08:27.695598Z"
    }
   },
   "outputs": [
    {
     "data": {
      "text/plain": [
       "['London is the capital of Great Britain',\n",
       " 'London was founded in AD 43',\n",
       " 'Today is 07.12.2020 01:15 P.M., or 2020-12-07 13:15?']"
      ]
     },
     "execution_count": 24,
     "metadata": {},
     "output_type": "execute_result"
    }
   ],
   "source": [
    "re.split('\\.\\s', string2)"
   ]
  },
  {
   "cell_type": "markdown",
   "metadata": {},
   "source": [
    "Таким же образом можно выделять и нормировать даты, телефоны и любые последовательности символов с определенными требованиями к формату."
   ]
  },
  {
   "cell_type": "markdown",
   "metadata": {},
   "source": [
    "Другая задача - например нам необходимо взять все слова в тексте и подать их в какой-либо алгоритм, либо закодировать словарем, либо совершить что-то подобное. Тогда нам необходимо отфильтровать все не относящиеся к делу символы."
   ]
  },
  {
   "cell_type": "code",
   "execution_count": 25,
   "metadata": {
    "ExecuteTime": {
     "end_time": "2021-01-23T13:09:47.983576Z",
     "start_time": "2021-01-23T13:09:47.978136Z"
    }
   },
   "outputs": [
    {
     "data": {
      "text/plain": [
       "['London',\n",
       " 'is',\n",
       " 'the',\n",
       " 'capital',\n",
       " 'of',\n",
       " 'Great',\n",
       " 'Britain',\n",
       " 'London',\n",
       " 'was',\n",
       " 'founded',\n",
       " 'in',\n",
       " 'AD',\n",
       " 'Today',\n",
       " 'is',\n",
       " 'P',\n",
       " 'M',\n",
       " 'or']"
      ]
     },
     "execution_count": 25,
     "metadata": {},
     "output_type": "execute_result"
    }
   ],
   "source": [
    "re.findall('[A-Za-z]+', string2)"
   ]
  },
  {
   "cell_type": "markdown",
   "metadata": {},
   "source": [
    "Это уже следует преобразовать в символы нижнего регистра, так как иначе Today и today у нас будут восприниматься как разные слова. Забегая в тему следующих занятий, совершим эту операцию с помощью преобразования списка, в котором у нас хранятся слова."
   ]
  },
  {
   "cell_type": "code",
   "execution_count": 26,
   "metadata": {
    "ExecuteTime": {
     "end_time": "2021-01-23T13:10:48.739194Z",
     "start_time": "2021-01-23T13:10:48.737028Z"
    }
   },
   "outputs": [],
   "source": [
    "set_word = re.findall('[A-Za-z]+', string2)"
   ]
  },
  {
   "cell_type": "code",
   "execution_count": 27,
   "metadata": {
    "ExecuteTime": {
     "end_time": "2021-01-23T13:10:55.738582Z",
     "start_time": "2021-01-23T13:10:55.731426Z"
    }
   },
   "outputs": [
    {
     "data": {
      "text/plain": [
       "['London',\n",
       " 'is',\n",
       " 'the',\n",
       " 'capital',\n",
       " 'of',\n",
       " 'Great',\n",
       " 'Britain',\n",
       " 'London',\n",
       " 'was',\n",
       " 'founded',\n",
       " 'in',\n",
       " 'AD',\n",
       " 'Today',\n",
       " 'is',\n",
       " 'P',\n",
       " 'M',\n",
       " 'or']"
      ]
     },
     "execution_count": 27,
     "metadata": {},
     "output_type": "execute_result"
    }
   ],
   "source": [
    "set_word"
   ]
  },
  {
   "cell_type": "code",
   "execution_count": 28,
   "metadata": {
    "ExecuteTime": {
     "end_time": "2021-01-23T13:12:15.716566Z",
     "start_time": "2021-01-23T13:12:15.712218Z"
    }
   },
   "outputs": [
    {
     "data": {
      "text/plain": [
       "['london',\n",
       " 'is',\n",
       " 'the',\n",
       " 'capital',\n",
       " 'of',\n",
       " 'great',\n",
       " 'britain',\n",
       " 'london',\n",
       " 'was',\n",
       " 'founded',\n",
       " 'in',\n",
       " 'ad',\n",
       " 'today',\n",
       " 'is',\n",
       " 'or']"
      ]
     },
     "execution_count": 28,
     "metadata": {},
     "output_type": "execute_result"
    }
   ],
   "source": [
    "[i.lower() for i in set_word if len(i)>1]"
   ]
  },
  {
   "cell_type": "markdown",
   "metadata": {},
   "source": [
    "Здесь мы дополнитиельно убрали односимволные слова."
   ]
  }
 ],
 "metadata": {
  "kernelspec": {
   "display_name": "Python 3",
   "language": "python",
   "name": "python3"
  },
  "language_info": {
   "codemirror_mode": {
    "name": "ipython",
    "version": 3
   },
   "file_extension": ".py",
   "mimetype": "text/x-python",
   "name": "python",
   "nbconvert_exporter": "python",
   "pygments_lexer": "ipython3",
   "version": "3.7.8"
  },
  "latex_envs": {
   "LaTeX_envs_menu_present": true,
   "autoclose": false,
   "autocomplete": true,
   "bibliofile": "biblio.bib",
   "cite_by": "apalike",
   "current_citInitial": 1,
   "eqLabelWithNumbers": true,
   "eqNumInitial": 1,
   "hotkeys": {
    "equation": "Ctrl-E",
    "itemize": "Ctrl-I"
   },
   "labels_anchors": false,
   "latex_user_defs": false,
   "report_style_numbering": false,
   "user_envs_cfg": false
  },
  "toc": {
   "base_numbering": 1,
   "nav_menu": {},
   "number_sections": false,
   "sideBar": false,
   "skip_h1_title": false,
   "title_cell": "Table of Contents",
   "title_sidebar": "Contents",
   "toc_cell": false,
   "toc_position": {},
   "toc_section_display": false,
   "toc_window_display": false
  },
  "varInspector": {
   "cols": {
    "lenName": 16,
    "lenType": 16,
    "lenVar": 40
   },
   "kernels_config": {
    "python": {
     "delete_cmd_postfix": "",
     "delete_cmd_prefix": "del ",
     "library": "var_list.py",
     "varRefreshCmd": "print(var_dic_list())"
    },
    "r": {
     "delete_cmd_postfix": ") ",
     "delete_cmd_prefix": "rm(",
     "library": "var_list.r",
     "varRefreshCmd": "cat(var_dic_list()) "
    }
   },
   "types_to_exclude": [
    "module",
    "function",
    "builtin_function_or_method",
    "instance",
    "_Feature"
   ],
   "window_display": false
  }
 },
 "nbformat": 4,
 "nbformat_minor": 4
}
